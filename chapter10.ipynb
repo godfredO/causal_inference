{
 "cells": [
  {
   "cell_type": "code",
   "execution_count": 1,
   "metadata": {},
   "outputs": [],
   "source": [
    "from toolz.curried import *\n",
    "\n",
    "import pandas as pd\n",
    "import numpy as np\n",
    "\n",
    "import statsmodels.formula.api as smf\n",
    "\n",
    "import seaborn as sns\n",
    "from matplotlib import pyplot as plt\n",
    "import matplotlib\n",
    "from cycler import cycler\n",
    "\n",
    "color=['0.0', '0.4', '0.8']\n",
    "default_cycler = (cycler(color=color))\n",
    "linestyle=['-', '--', ':', '-.']\n",
    "marker=['o', 'v', 'd', 'p']\n",
    "\n",
    "plt.rc('axes', prop_cycle=default_cycler)"
   ]
  },
  {
   "cell_type": "markdown",
   "metadata": {},
   "source": [
    "#### Geo and Switchback Experiments\n",
    "\n",
    "How do you design experiments to gather data such as repeated observations over time (panel data) to aid in the process of causal inference. What are the alternative experimental design when simple A/B testing won't work.\n",
    "\n",
    "Infering the impact of marketing is challenging because you cannot randomize people who are not yet your customers, as in a simple A/B testing,. Online marketing provides attribution tools, but attribution is not the same as incrementality. A promising alternative is to conduct a geo-experiment: treat entire markets, such as a city or a state, while leaving others as control. This approach will provide you with panel data. Its important to know how to best select the treated and control markets in such an experiment. The idea is to zoom out the unit of analysis from customers to cities or states. This comes at a price in terms of sample size since there are far more customers than there are cities. \n",
    "\n",
    "In some cases, even randomizing cities may not be possible. A small company operating locally may not have many markets in which to conduct an experiment, since there is a single unit of analysis. Switchback experiments involve turning a treatment on and off multiple times. This approach can work even if you have only a single treatment unit. Say you have a small food delivery marketplace operating within a single city and you want to know what happens if you increase the delivery fee, you can increase and decrease prices multiple times and conduct a series of before-and-after analyses."
   ]
  },
  {
   "cell_type": "code",
   "execution_count": 2,
   "metadata": {},
   "outputs": [],
   "source": [
    "# Synthetic Control (with Intercept)\n",
    "from sklearn.base import BaseEstimator, RegressorMixin \n",
    "from sklearn.utils.validation import (check_X_y, check_array, check_is_fitted)\n",
    "import cvxpy as cp \n",
    "\n",
    "\n",
    "class SyntheticControl(BaseEstimator, RegressorMixin):      # our estimator is a regressor\n",
    "\n",
    "    def __init__(self, fit_intercept=False):                # initialize regression estimator\n",
    "        self.fit_intercept = fit_intercept\n",
    "\n",
    "    def fit(self, y_pre_co, y_pre_tr):\n",
    "        y_pre_co, y_pre_tr = check_X_y(y_pre_co, y_pre_tr)  # check X,y for consistent length; X is 2D and y 1D.\n",
    "\n",
    "        intercept = np.ones((y_pre_co.shape[0],1))*self.fit_intercept   # intercept column is 1 if fit_intercept\n",
    "        X = np.concatenate([intercept, y_pre_co], axis=1)   # add intercept column\n",
    "        w = cp.Variable(X.shape[1])             # weights (optimization variables) length is number of features\n",
    "\n",
    "        objective = cp.Minimize(cp.sum_squares(X@w - y_pre_tr)) # minimization function\n",
    "        constraints = [cp.sum(w[1:]) ==1, w[1:] >= 0]           # intercept not included in constraints\n",
    "\n",
    "        problem = cp.Problem(objective, constraints)        # convex optimization problem\n",
    "\n",
    "        self.loss_ = problem.solve(eps_abs=1)               # eps_abs=1 is essential for default solver to work\n",
    "        self.w_ = w.value[1:]                               # add fitted attribute, weights values\n",
    "        self.intercept_ = w.value[0]                        # add fitted attribute, intercept value\n",
    "\n",
    "        self.is_fitted_ = True                              # add fitted attribute\n",
    "        return self                                         # return fitted estimator\n",
    "    \n",
    "    def predict(self, y_co):\n",
    "        check_is_fitted(self)       # verify presence of fitted attributes (ending with a trailing underscore)\n",
    "        y_co = check_array(y_co)    # Input validation on an array      \n",
    "        return y_co @ self.w_       # predict using weights"
   ]
  },
  {
   "cell_type": "markdown",
   "metadata": {},
   "source": [
    "#### Geo-Experiments\n",
    "\n",
    "The dataset below has city as the unit, date as the time dimension; a treated column, which marks if the city is eventually treated; a post-treatment column, which marks the post-intervention period. There's also auxilliary columns, like population in that city (2013, so fixed in time), and state. The outcome is number of app downloads. The goal is to decide which cities to treat, so we'll discard the post-intervention period. That is, the objective is to select a group of cities that is representative of the total market. That way, if you treat that group, you'll get an idea of what would happen if the entire market (i.e., country) was treated. \n",
    "\n",
    "It's always worth trying the simple things. If you have lots of geographical units (i.e. many cities), perhaps a simple A/B testing would work just fine. Simply choose at random a fraction of the cities to compose the treatment group. Only difference is that you would be shifting the unit of analysis from people (potential customers) to entire cities. To know how many cities are enough, you could start with the simple power formula ($n=16\\sigma^2/\\delta^2$). For the dataset below, that is 40,000 cities needed for a simple A/B testing but you only have 50 cities. So what are your options now?.\n",
    "\n",
    "When considering different experimental options, it's essential to take into account how you will interpret the results. If you plan on using difference-in-differences method, you can identify pairs of cities that have similar trends in the outcome variable and randomize within each pair. One city would receive the treatment while the other serves as control. Diff-in-diff method estimates the average treatment effect on the treated (ATT). To know the overall effect of the treatment, the ATT estimate may not recover that. We will need to maximize the external validity of the experiment by identifying a treatment group that is representative of the entire market."
   ]
  },
  {
   "cell_type": "code",
   "execution_count": 3,
   "metadata": {},
   "outputs": [
    {
     "data": {
      "text/html": [
       "<div>\n",
       "<style scoped>\n",
       "    .dataframe tbody tr th:only-of-type {\n",
       "        vertical-align: middle;\n",
       "    }\n",
       "\n",
       "    .dataframe tbody tr th {\n",
       "        vertical-align: top;\n",
       "    }\n",
       "\n",
       "    .dataframe thead th {\n",
       "        text-align: right;\n",
       "    }\n",
       "</style>\n",
       "<table border=\"1\" class=\"dataframe\">\n",
       "  <thead>\n",
       "    <tr style=\"text-align: right;\">\n",
       "      <th></th>\n",
       "      <th>app_download</th>\n",
       "      <th>population</th>\n",
       "      <th>city</th>\n",
       "      <th>state</th>\n",
       "      <th>date</th>\n",
       "      <th>post</th>\n",
       "      <th>treated</th>\n",
       "    </tr>\n",
       "  </thead>\n",
       "  <tbody>\n",
       "    <tr>\n",
       "      <th>0</th>\n",
       "      <td>3066.0</td>\n",
       "      <td>12396372</td>\n",
       "      <td>sao_paulo</td>\n",
       "      <td>sao_paulo</td>\n",
       "      <td>2022-03-01</td>\n",
       "      <td>0</td>\n",
       "      <td>1</td>\n",
       "    </tr>\n",
       "    <tr>\n",
       "      <th>1</th>\n",
       "      <td>2701.0</td>\n",
       "      <td>12396372</td>\n",
       "      <td>sao_paulo</td>\n",
       "      <td>sao_paulo</td>\n",
       "      <td>2022-03-02</td>\n",
       "      <td>0</td>\n",
       "      <td>1</td>\n",
       "    </tr>\n",
       "    <tr>\n",
       "      <th>2</th>\n",
       "      <td>1927.0</td>\n",
       "      <td>12396372</td>\n",
       "      <td>sao_paulo</td>\n",
       "      <td>sao_paulo</td>\n",
       "      <td>2022-03-03</td>\n",
       "      <td>0</td>\n",
       "      <td>1</td>\n",
       "    </tr>\n",
       "    <tr>\n",
       "      <th>3</th>\n",
       "      <td>1451.0</td>\n",
       "      <td>12396372</td>\n",
       "      <td>sao_paulo</td>\n",
       "      <td>sao_paulo</td>\n",
       "      <td>2022-03-04</td>\n",
       "      <td>0</td>\n",
       "      <td>1</td>\n",
       "    </tr>\n",
       "    <tr>\n",
       "      <th>4</th>\n",
       "      <td>1248.0</td>\n",
       "      <td>12396372</td>\n",
       "      <td>sao_paulo</td>\n",
       "      <td>sao_paulo</td>\n",
       "      <td>2022-03-05</td>\n",
       "      <td>0</td>\n",
       "      <td>1</td>\n",
       "    </tr>\n",
       "  </tbody>\n",
       "</table>\n",
       "</div>"
      ],
      "text/plain": [
       "   app_download  population       city      state       date  post  treated\n",
       "0        3066.0    12396372  sao_paulo  sao_paulo 2022-03-01     0        1\n",
       "1        2701.0    12396372  sao_paulo  sao_paulo 2022-03-02     0        1\n",
       "2        1927.0    12396372  sao_paulo  sao_paulo 2022-03-03     0        1\n",
       "3        1451.0    12396372  sao_paulo  sao_paulo 2022-03-04     0        1\n",
       "4        1248.0    12396372  sao_paulo  sao_paulo 2022-03-05     0        1"
      ]
     },
     "execution_count": 3,
     "metadata": {},
     "output_type": "execute_result"
    }
   ],
   "source": [
    "df = (pd.read_csv(\"data/online_mkt.csv\")\n",
    "      .astype({\"date\": \"datetime64[ns]\"})\n",
    "      .query(\"post==0\"))   # only pre-intervention periods (post=0) because we are now designing the experiment\n",
    "df.head()"
   ]
  },
  {
   "cell_type": "code",
   "execution_count": 4,
   "metadata": {},
   "outputs": [
    {
     "data": {
      "text/plain": [
       "36663.0"
      ]
     },
     "execution_count": 4,
     "metadata": {},
     "output_type": "execute_result"
    }
   ],
   "source": [
    "# power analysis to detect an effect of 5% in the outcome\n",
    "detectable_diff = df[\"app_download\"].mean()*0.05   # 5% of the expectation of the outcome\n",
    "sigma_2 = df.groupby(\"city\")[\"app_download\"].mean().var()  # variance of average outcome per unit\n",
    "np.ceil((16*sigma_2)/(detectable_diff)**2)"
   ]
  },
  {
   "cell_type": "markdown",
   "metadata": {},
   "source": [
    "#### Synthetic Control Design\n",
    "\n",
    "Synthetic control is about finding a group of units whose time series can best approximate the outcome of interest. As such you can repurpose the method to find a synthetic treatment unit that approximates the average behavior of all units. To do so, you'll need the data in matrix form, where rows are the time periods and columns are the cities (units), $Y_{T,n}$.\n",
    "\n",
    "Each city contributes differently for the average. To get the global average, you first need to know how much each city contributes to it. This can be represented by a city weight vector $f$ where each entry $i$ represents the size of city $i$ as a share of the total market. Once $f$ is defined, the objective is to find a set of weights w, such that \n",
    "\n",
    "$Y_{post}f=Y_{post}w$ \n",
    "\n",
    "You want to find a combination of treatment cities that when combined with weights w, will give you the average outcome of the market. The obvious solution would be $f=w$, but that would mean treating every city, leaving no control units to estimate the treatment effect, so you add a constraint, that the number of nonzero elements in w must be smaller than N, the number of cities: $|w|_0<N\\; (|.|_0\\;\\;the\\;L0\\;norm\\;is\\;the\\;number\\;of\\;nonzero\\;elements)$. \n",
    "\n",
    "If the preceding objective finds the cities that you can use as treatment, the second objective is to find another group of cities, different from the first, that will also approximate the market average:\n",
    "\n",
    "$Y_{post}f=Y_{post}v\\;s.t\\;w_iv_i=0\\;∀;i$\n",
    "\n",
    "Combining both objectives, the nonzero elements in $w$ and $v$ become the treatment and control units (cities) respectively. The second objective ensure that you can't use the same city as a treatment and control. Both objectives look at the post-treatment period, meaning they are currently not feasible."
   ]
  },
  {
   "cell_type": "code",
   "execution_count": 5,
   "metadata": {},
   "outputs": [
    {
     "data": {
      "text/html": [
       "<div>\n",
       "<style scoped>\n",
       "    .dataframe tbody tr th:only-of-type {\n",
       "        vertical-align: middle;\n",
       "    }\n",
       "\n",
       "    .dataframe tbody tr th {\n",
       "        vertical-align: top;\n",
       "    }\n",
       "\n",
       "    .dataframe thead th {\n",
       "        text-align: right;\n",
       "    }\n",
       "</style>\n",
       "<table border=\"1\" class=\"dataframe\">\n",
       "  <thead>\n",
       "    <tr style=\"text-align: right;\">\n",
       "      <th>city</th>\n",
       "      <th>ananindeua</th>\n",
       "      <th>aparecida_de_goiania</th>\n",
       "      <th>aracaju</th>\n",
       "      <th>belem</th>\n",
       "      <th>belford_roxo</th>\n",
       "      <th>belo_horizonte</th>\n",
       "      <th>brasilia</th>\n",
       "      <th>campinas</th>\n",
       "      <th>campo_grande</th>\n",
       "      <th>campos_dos_goytacazes</th>\n",
       "      <th>...</th>\n",
       "      <th>sao_bernardo_do_campo</th>\n",
       "      <th>sao_goncalo</th>\n",
       "      <th>sao_jose_dos_campos</th>\n",
       "      <th>sao_luis</th>\n",
       "      <th>sao_paulo</th>\n",
       "      <th>serra</th>\n",
       "      <th>sorocaba</th>\n",
       "      <th>teresina</th>\n",
       "      <th>uberlandia</th>\n",
       "      <th>vila_velha</th>\n",
       "    </tr>\n",
       "    <tr>\n",
       "      <th>date</th>\n",
       "      <th></th>\n",
       "      <th></th>\n",
       "      <th></th>\n",
       "      <th></th>\n",
       "      <th></th>\n",
       "      <th></th>\n",
       "      <th></th>\n",
       "      <th></th>\n",
       "      <th></th>\n",
       "      <th></th>\n",
       "      <th></th>\n",
       "      <th></th>\n",
       "      <th></th>\n",
       "      <th></th>\n",
       "      <th></th>\n",
       "      <th></th>\n",
       "      <th></th>\n",
       "      <th></th>\n",
       "      <th></th>\n",
       "      <th></th>\n",
       "      <th></th>\n",
       "    </tr>\n",
       "  </thead>\n",
       "  <tbody>\n",
       "    <tr>\n",
       "      <th>2022-03-01</th>\n",
       "      <td>11.0</td>\n",
       "      <td>54.0</td>\n",
       "      <td>65.0</td>\n",
       "      <td>49.0</td>\n",
       "      <td>52.0</td>\n",
       "      <td>194.0</td>\n",
       "      <td>449.0</td>\n",
       "      <td>326.0</td>\n",
       "      <td>305.0</td>\n",
       "      <td>42.0</td>\n",
       "      <td>...</td>\n",
       "      <td>208.0</td>\n",
       "      <td>148.0</td>\n",
       "      <td>173.0</td>\n",
       "      <td>28.0</td>\n",
       "      <td>3066.0</td>\n",
       "      <td>46.0</td>\n",
       "      <td>207.0</td>\n",
       "      <td>68.0</td>\n",
       "      <td>29.0</td>\n",
       "      <td>63.0</td>\n",
       "    </tr>\n",
       "    <tr>\n",
       "      <th>2022-03-02</th>\n",
       "      <td>5.0</td>\n",
       "      <td>20.0</td>\n",
       "      <td>42.0</td>\n",
       "      <td>44.0</td>\n",
       "      <td>25.0</td>\n",
       "      <td>130.0</td>\n",
       "      <td>367.0</td>\n",
       "      <td>172.0</td>\n",
       "      <td>261.0</td>\n",
       "      <td>24.0</td>\n",
       "      <td>...</td>\n",
       "      <td>185.0</td>\n",
       "      <td>157.0</td>\n",
       "      <td>137.0</td>\n",
       "      <td>4.0</td>\n",
       "      <td>2701.0</td>\n",
       "      <td>48.0</td>\n",
       "      <td>98.0</td>\n",
       "      <td>17.0</td>\n",
       "      <td>29.0</td>\n",
       "      <td>11.0</td>\n",
       "    </tr>\n",
       "    <tr>\n",
       "      <th>2022-03-03</th>\n",
       "      <td>2.0</td>\n",
       "      <td>0.0</td>\n",
       "      <td>0.0</td>\n",
       "      <td>24.0</td>\n",
       "      <td>13.0</td>\n",
       "      <td>112.0</td>\n",
       "      <td>219.0</td>\n",
       "      <td>292.0</td>\n",
       "      <td>171.0</td>\n",
       "      <td>28.0</td>\n",
       "      <td>...</td>\n",
       "      <td>96.0</td>\n",
       "      <td>72.0</td>\n",
       "      <td>171.0</td>\n",
       "      <td>6.0</td>\n",
       "      <td>1927.0</td>\n",
       "      <td>28.0</td>\n",
       "      <td>87.0</td>\n",
       "      <td>55.0</td>\n",
       "      <td>30.0</td>\n",
       "      <td>14.0</td>\n",
       "    </tr>\n",
       "    <tr>\n",
       "      <th>2022-03-04</th>\n",
       "      <td>0.0</td>\n",
       "      <td>0.0</td>\n",
       "      <td>11.0</td>\n",
       "      <td>4.0</td>\n",
       "      <td>34.0</td>\n",
       "      <td>56.0</td>\n",
       "      <td>265.0</td>\n",
       "      <td>154.0</td>\n",
       "      <td>175.0</td>\n",
       "      <td>43.0</td>\n",
       "      <td>...</td>\n",
       "      <td>123.0</td>\n",
       "      <td>102.0</td>\n",
       "      <td>0.0</td>\n",
       "      <td>5.0</td>\n",
       "      <td>1451.0</td>\n",
       "      <td>22.0</td>\n",
       "      <td>47.0</td>\n",
       "      <td>49.0</td>\n",
       "      <td>35.0</td>\n",
       "      <td>0.0</td>\n",
       "    </tr>\n",
       "    <tr>\n",
       "      <th>2022-03-05</th>\n",
       "      <td>5.0</td>\n",
       "      <td>5.0</td>\n",
       "      <td>0.0</td>\n",
       "      <td>16.0</td>\n",
       "      <td>12.0</td>\n",
       "      <td>45.0</td>\n",
       "      <td>135.0</td>\n",
       "      <td>122.0</td>\n",
       "      <td>189.0</td>\n",
       "      <td>35.0</td>\n",
       "      <td>...</td>\n",
       "      <td>99.0</td>\n",
       "      <td>53.0</td>\n",
       "      <td>112.0</td>\n",
       "      <td>12.0</td>\n",
       "      <td>1248.0</td>\n",
       "      <td>21.0</td>\n",
       "      <td>36.0</td>\n",
       "      <td>31.0</td>\n",
       "      <td>6.0</td>\n",
       "      <td>1.0</td>\n",
       "    </tr>\n",
       "  </tbody>\n",
       "</table>\n",
       "<p>5 rows × 50 columns</p>\n",
       "</div>"
      ],
      "text/plain": [
       "city        ananindeua  aparecida_de_goiania  aracaju  belem  belford_roxo  \\\n",
       "date                                                                         \n",
       "2022-03-01        11.0                  54.0     65.0   49.0          52.0   \n",
       "2022-03-02         5.0                  20.0     42.0   44.0          25.0   \n",
       "2022-03-03         2.0                   0.0      0.0   24.0          13.0   \n",
       "2022-03-04         0.0                   0.0     11.0    4.0          34.0   \n",
       "2022-03-05         5.0                   5.0      0.0   16.0          12.0   \n",
       "\n",
       "city        belo_horizonte  brasilia  campinas  campo_grande  \\\n",
       "date                                                           \n",
       "2022-03-01           194.0     449.0     326.0         305.0   \n",
       "2022-03-02           130.0     367.0     172.0         261.0   \n",
       "2022-03-03           112.0     219.0     292.0         171.0   \n",
       "2022-03-04            56.0     265.0     154.0         175.0   \n",
       "2022-03-05            45.0     135.0     122.0         189.0   \n",
       "\n",
       "city        campos_dos_goytacazes  ...  sao_bernardo_do_campo  sao_goncalo  \\\n",
       "date                               ...                                       \n",
       "2022-03-01                   42.0  ...                  208.0        148.0   \n",
       "2022-03-02                   24.0  ...                  185.0        157.0   \n",
       "2022-03-03                   28.0  ...                   96.0         72.0   \n",
       "2022-03-04                   43.0  ...                  123.0        102.0   \n",
       "2022-03-05                   35.0  ...                   99.0         53.0   \n",
       "\n",
       "city        sao_jose_dos_campos  sao_luis  sao_paulo  serra  sorocaba  \\\n",
       "date                                                                    \n",
       "2022-03-01                173.0      28.0     3066.0   46.0     207.0   \n",
       "2022-03-02                137.0       4.0     2701.0   48.0      98.0   \n",
       "2022-03-03                171.0       6.0     1927.0   28.0      87.0   \n",
       "2022-03-04                  0.0       5.0     1451.0   22.0      47.0   \n",
       "2022-03-05                112.0      12.0     1248.0   21.0      36.0   \n",
       "\n",
       "city        teresina  uberlandia  vila_velha  \n",
       "date                                          \n",
       "2022-03-01      68.0        29.0        63.0  \n",
       "2022-03-02      17.0        29.0        11.0  \n",
       "2022-03-03      55.0        30.0        14.0  \n",
       "2022-03-04      49.0        35.0         0.0  \n",
       "2022-03-05      31.0         6.0         1.0  \n",
       "\n",
       "[5 rows x 50 columns]"
      ]
     },
     "execution_count": 5,
     "metadata": {},
     "output_type": "execute_result"
    }
   ],
   "source": [
    "df_piv = (df\n",
    "          .pivot(index=\"date\", columns=\"city\", values=\"app_download\"))\n",
    "df_piv.head()"
   ]
  },
  {
   "cell_type": "code",
   "execution_count": 6,
   "metadata": {},
   "outputs": [],
   "source": [
    "# vector of proportion of population in each unit\n",
    "f = (df.groupby(\"city\")[\"population\"].first()   # population of each city (first non-null population per city)  \n",
    "    / df.groupby(\"city\")[\"population\"].first().sum())   # total population of all cities; sum first non-null"
   ]
  },
  {
   "cell_type": "code",
   "execution_count": 7,
   "metadata": {},
   "outputs": [
    {
     "data": {
      "text/plain": [
       "city\n",
       "ananindeua              0.007889\n",
       "aparecida_de_goiania    0.008785\n",
       "aracaju                 0.009818\n",
       "belem                   0.021990\n",
       "belford_roxo            0.007521\n",
       "Name: population, dtype: float64"
      ]
     },
     "execution_count": 7,
     "metadata": {},
     "output_type": "execute_result"
    }
   ],
   "source": [
    "f.head()"
   ]
  },
  {
   "cell_type": "markdown",
   "metadata": {},
   "source": [
    "To make the objectives feasible, the first step is to look at the pre-intervention period. That is, we need to find two disjoint groups of cities such that a weighted average of each approximates the market average. That alone would be enough, but, practically speaking, you want to add some extra constraints. For example, since the goal is to test a marketing campaign before rolling out to entire market, you don't want to choose too many treatment cities. Moreover in many markets, the size of cities tends to follow an exponential distribution, with a small number of cities accounting for almost all of the market. A big treatment group would treat almost everyone and defeat the purpose of the test. Also, if you use the canonical synthetic control formulation, you would be forced to include the biggest cities, as you are not allowed to extrapolate. It doesn't make practical sense to be testing in large cities to later apply in smaller cities, so you probably want to allow for an intercept shift in the synthetic control model. Combining all the extra requirements, both objectives and synthetic control constraints, the new objective is:\n",
    "\n",
    "$min||Y_{pre}f -Y_{pre}w_{tr} -\\alpha_0||^2 + ||Y_{pre}f - Y_{pre}v_{co} -\\beta_0||^2 \\\\ s.t\\;\\Sigma w_i=1\\;and\\;\\Sigma v_i=1, \\\\ \\;\\;\\;\\;\\; w_i,v_i\\geq 0\\;∀\\;i,\\\\ \\;\\;\\;\\;\\;w_iv_i=0\\;∀\\;i,\\\\ \\;\\;\\;\\;\\;|w|_0\\leq m$\n",
    "\n",
    "First, we add intercept terms $\\alpha_0$ and $\\beta_0$, to both synthetic treatment and synthetic control objectives. The first two constraints are traditional synthetic control constraints, which states that weights must sum to 1 and be nonnegative. Next, constraint states that a city cannot be used for both treatment and control. Final constraint is on the maximum number of cities, $m$, you want on the treatment set. Finding the $best$ possible set of treatment and control cities is not strictly necessary, you just need $good\\;enough$.\n"
   ]
  },
  {
   "cell_type": "code",
   "execution_count": 8,
   "metadata": {},
   "outputs": [
    {
     "data": {
      "image/png": "[encoded data removed]",
      "text/plain": [
       "<Figure size 1200x300 with 1 Axes>"
      ]
     },
     "metadata": {},
     "output_type": "display_data"
    }
   ],
   "source": [
    "plt.figure(figsize=(12,3))\n",
    "plt.bar(f.sort_values().index, f.sort_values().values)  # sorted bar chat of city total population proportion \n",
    "plt.title(\"Size of each city as a proportion of the market (f vector)\")\n",
    "plt.xticks(rotation=90, fontsize=8);"
   ]
  },
  {
   "cell_type": "markdown",
   "metadata": {},
   "source": [
    "#### Trying a Random Set of Treated Units\n",
    "\n",
    "Before trying to solve the new objective to identify treatment and control cities, we could try a simpler approach involving a random set of cities for treatment. Both treatment and control cities, have to approximate the market average. To get the market average for each date, we dot product each row of the pivoted dataframe with the market share vector f. We set the maximum treatment cities as 5. \n",
    "\n",
    "We use synthetic control with intercept drift to find weights for combining cities to approximate the market average for each day. We first randomly choose 5 cities to be used as possible treatment, run synthetic control on these 5 cities, filter out the weights that are close to 0, and store the remaining as the chosen treatment cities. We drop the columns of the chosen treatment cities from the pivoted dataframe, before running synthetic control on the remaining columns to identify the control cities and their weights. We store the chosen synthetic treatment and control cities as well as the sum of synthetic treatment loss and synthetic control loss for minimization.\n",
    "\n",
    "In the plot below, when plotting both synthetic treatment and control alongside the market average, its clear that the synthetic treatment has a poor fit, the synthetic control matches the average almost exactly."
   ]
  },
  {
   "cell_type": "code",
   "execution_count": 9,
   "metadata": {},
   "outputs": [],
   "source": [
    "y_avg = df_piv.dot(f) #  population fraction weighted average of pivot table per date\n",
    "geos = list(df_piv.columns)         # city names\n",
    "n_tr = 5                            # maximum number of treatment cities"
   ]
  },
  {
   "cell_type": "code",
   "execution_count": 10,
   "metadata": {},
   "outputs": [
    {
     "data": {
      "text/plain": [
       "date\n",
       "2022-03-01    767.820880\n",
       "2022-03-02    652.331457\n",
       "2022-03-03    484.948194\n",
       "2022-03-04    348.207275\n",
       "2022-03-05    288.963059\n",
       "dtype: float64"
      ]
     },
     "execution_count": 10,
     "metadata": {},
     "output_type": "execute_result"
    }
   ],
   "source": [
    "y_avg.head()  #  population fraction weighted market average per date"
   ]
  },
  {
   "cell_type": "code",
   "execution_count": 11,
   "metadata": {},
   "outputs": [
    {
     "data": {
      "text/plain": [
       "array(['manaus', 'recife', 'sao_bernardo_do_campo', 'salvador', 'aracaju'],\n",
       "      dtype='<U23')"
      ]
     },
     "execution_count": 11,
     "metadata": {},
     "output_type": "execute_result"
    }
   ],
   "source": [
    "np.random.seed(1)\n",
    "rand_geos = np.random.choice(geos, n_tr, replace=False) # randomly select 5 random cities\n",
    "rand_geos"
   ]
  },
  {
   "cell_type": "code",
   "execution_count": 12,
   "metadata": {},
   "outputs": [
    {
     "data": {
      "text/plain": [
       "{'geos': array(['salvador', 'aracaju'], dtype='<U23'),\n",
       " 'loss': 1598616.80875266}"
      ]
     },
     "execution_count": 12,
     "metadata": {},
     "output_type": "execute_result"
    }
   ],
   "source": [
    "# weights for combining selected cities to model market average\n",
    "def get_sc(geos, df_sc, y_mean_pre):\n",
    "    model = SyntheticControl(fit_intercept=True)            # initialize synthetic control model with intercept\n",
    "    model.fit(df_sc[geos], y_mean_pre)      # find weights for selected cities to predict average market average\n",
    "\n",
    "    selected_geos = geos[np.abs(model.w_) > 1e-5]  # use cities whose absolute weights are not too close to 0\n",
    "    return {\"geos\": selected_geos, \"loss\": model.loss_}     # selected cities, model loss for optimization\n",
    "\n",
    "get_sc(rand_geos, df_piv, y_avg)"
   ]
  },
  {
   "cell_type": "code",
   "execution_count": 13,
   "metadata": {},
   "outputs": [],
   "source": [
    "def get_sc_st_combination(treatment_geos, df_sc, y_mean_pre):\n",
    "    treatment_result = get_sc(treatment_geos, df_sc, y_mean_pre)    # sc for non-zero weights for treatment\n",
    "\n",
    "    remaining_geos = df_sc.drop(\n",
    "        columns=treatment_result[\"geos\"]   # treatment cities are stored in geos key of result\n",
    "        ).columns  # remaining columns for control after dropping columns chosen for treatment\n",
    "\n",
    "    control_result = get_sc(remaining_geos, df_sc, y_mean_pre)      # sc for non-zero weights for control\n",
    "\n",
    "    return {\"st_geos\": treatment_result[\"geos\"],                        # treatment cities\n",
    "            \"sc_geos\": control_result[\"geos\"],                          # control cities\n",
    "            \"loss\": treatment_result[\"loss\"] + control_result[\"loss\"]   # total loss of current choices \n",
    "            }\n",
    "resulting_geos = get_sc_st_combination(rand_geos, df_piv, y_avg)"
   ]
  },
  {
   "cell_type": "code",
   "execution_count": 14,
   "metadata": {},
   "outputs": [
    {
     "data": {
      "text/plain": [
       "array(['salvador', 'aracaju'], dtype='<U23')"
      ]
     },
     "execution_count": 14,
     "metadata": {},
     "output_type": "execute_result"
    }
   ],
   "source": [
    "resulting_geos.get(\"st_geos\")"
   ]
  },
  {
   "cell_type": "code",
   "execution_count": 15,
   "metadata": {},
   "outputs": [
    {
     "data": {
      "text/plain": [
       "Index(['ananindeua', 'aparecida_de_goiania', 'belem', 'belford_roxo',\n",
       "       'belo_horizonte', 'brasilia', 'campinas', 'campo_grande',\n",
       "       'campos_dos_goytacazes', 'caxias_do_sul', 'contagem', 'cuiaba',\n",
       "       'curitiba', 'duque_de_caxias', 'feira_de_santana', 'florianopolis',\n",
       "       'fortaleza', 'goiania', 'guarulhos', 'jaboatao_dos_guararapes',\n",
       "       'joao_pessoa', 'joinville', 'juiz_de_fora', 'londrina', 'macapa',\n",
       "       'maceio', 'manaus', 'maua', 'natal', 'niteroi', 'nova_iguacu', 'osasco',\n",
       "       'porto_alegre', 'porto_velho', 'recife', 'ribeirao_preto',\n",
       "       'rio_de_janeiro', 'santo_andre', 'sao_bernardo_do_campo', 'sao_goncalo',\n",
       "       'sao_jose_dos_campos', 'sao_luis', 'sao_paulo', 'serra', 'sorocaba',\n",
       "       'teresina', 'uberlandia', 'vila_velha'],\n",
       "      dtype='object', name='city')"
      ]
     },
     "execution_count": 15,
     "metadata": {},
     "output_type": "execute_result"
    }
   ],
   "source": [
    "resulting_geos.get(\"sc_geos\")"
   ]
  },
  {
   "cell_type": "code",
   "execution_count": 16,
   "metadata": {},
   "outputs": [
    {
     "data": {
      "text/plain": [
       "50"
      ]
     },
     "execution_count": 16,
     "metadata": {},
     "output_type": "execute_result"
    }
   ],
   "source": [
    "len(resulting_geos.get(\"st_geos\")) + len(resulting_geos.get(\"sc_geos\"))"
   ]
  },
  {
   "cell_type": "code",
   "execution_count": 17,
   "metadata": {},
   "outputs": [
    {
     "data": {
      "text/plain": [
       "<matplotlib.legend.Legend at 0x7fec50ce1f40>"
      ]
     },
     "execution_count": 17,
     "metadata": {},
     "output_type": "execute_result"
    },
    {
     "data": {
      "image/png": "[encoded data removed]",
      "text/plain": [
       "<Figure size 1000x400 with 1 Axes>"
      ]
     },
     "metadata": {},
     "output_type": "display_data"
    }
   ],
   "source": [
    "# Comparing the market average predicted by treatment, control city models to actual\n",
    "synthetic_tr = SyntheticControl(fit_intercept=True)     # sythetic control model to fit to treatment cities\n",
    "synthetic_co = SyntheticControl(fit_intercept=True)     # synthetic control model to fit to control cities\n",
    "\n",
    "synthetic_tr.fit(df_piv[resulting_geos.get(\"st_geos\")], y_avg)  # fit market average model to treatment cities\n",
    "synthetic_co.fit(df_piv[resulting_geos.get(\"sc_geos\")], y_avg)  # fit market average model to control cities\n",
    "\n",
    "# \n",
    "plt.figure(figsize=(10,4))\n",
    "plt.plot(y_avg, label=\"Average\")  # actual market average per date\n",
    "plt.plot(y_avg.index, synthetic_co.predict(df_piv[resulting_geos.get(\"sc_geos\")]), label=\"sc\", ls=\":\") #control\n",
    "plt.plot(y_avg.index, synthetic_tr.predict(df_piv[resulting_geos.get(\"st_geos\")]), label=\"st\") #treatment\n",
    "plt.xticks(rotation=45)\n",
    "plt.legend()"
   ]
  },
  {
   "cell_type": "code",
   "execution_count": 18,
   "metadata": {},
   "outputs": [
    {
     "data": {
      "text/plain": [
       "0"
      ]
     },
     "execution_count": 18,
     "metadata": {},
     "output_type": "execute_result"
    }
   ],
   "source": [
    "(synthetic_tr.predict(df_piv[resulting_geos.get(\"st_geos\")]) > 600).sum() # treatment prediction falls short"
   ]
  },
  {
   "cell_type": "markdown",
   "metadata": {},
   "source": [
    "#### Random Search \n",
    "\n",
    "To reduce the total loss given the number of cities, we can start with randomly searching many combinations and picking one that is okay. In the code below, having set the maximum number of cities to 5, we create a 1000 different groups of 5 cities, and get the synthetic treatment and control cities using the previous steps. We then select the group with the minimum loss, and plot the actual market average against the predictions by the synthetic treatment and control of this group. The results show that we are able to use random search to find a set of synthetic treatment and control cities that are able to adequately predict the market average."
   ]
  },
  {
   "cell_type": "code",
   "execution_count": 19,
   "metadata": {},
   "outputs": [
    {
     "name": "stderr",
     "output_type": "stream",
     "text": [
      "/opt/anaconda3/lib/python3.8/site-packages/cvxpy/problems/problem.py:1403: UserWarning: Solution may be inaccurate. Try another solver, adjusting the solver settings, or solve with verbose=True for more information.\n",
      "  warnings.warn(\n",
      "/opt/anaconda3/lib/python3.8/site-packages/cvxpy/problems/problem.py:1403: UserWarning: Solution may be inaccurate. Try another solver, adjusting the solver settings, or solve with verbose=True for more information.\n",
      "  warnings.warn(\n",
      "/opt/anaconda3/lib/python3.8/site-packages/cvxpy/problems/problem.py:1403: UserWarning: Solution may be inaccurate. Try another solver, adjusting the solver settings, or solve with verbose=True for more information.\n",
      "  warnings.warn(\n",
      "/opt/anaconda3/lib/python3.8/site-packages/cvxpy/problems/problem.py:1403: UserWarning: Solution may be inaccurate. Try another solver, adjusting the solver settings, or solve with verbose=True for more information.\n",
      "  warnings.warn(\n"
     ]
    }
   ],
   "source": [
    "from joblib import Parallel, delayed\n",
    "from toolz import partial\n",
    "\n",
    "np.random.seed(1)\n",
    "geo_samples = [np.random.choice(geos, n_tr, replace=False) \n",
    "               for _ in range(1000)]  # 1000 different sets of n_tr treatment cities\n",
    "\n",
    "est_combination = partial(get_sc_st_combination,\n",
    "                          df_sc=df_piv,\n",
    "                          y_mean_pre=y_avg) # initialize partially defined function (treatment_geos not given)\n",
    "\n",
    "results = Parallel(n_jobs=-1)(delayed(est_combination)(geos) # feed each random treatment city choice\n",
    "                             for geos in geo_samples) # into partially defined function delayed and parallel"
   ]
  },
  {
   "cell_type": "code",
   "execution_count": 20,
   "metadata": {},
   "outputs": [
    {
     "data": {
      "text/plain": [
       "array(['goiania', 'sao_paulo', 'joao_pessoa', 'manaus', 'niteroi'],\n",
       "      dtype='<U23')"
      ]
     },
     "execution_count": 20,
     "metadata": {},
     "output_type": "execute_result"
    }
   ],
   "source": [
    "resulting_geos = min(results, key=lambda x: x.get(\"loss\")) # sort dictionaries in ascending order of loss key\n",
    "resulting_geos.get(\"st_geos\")  # treatment set of random search result with the lowest loss "
   ]
  },
  {
   "cell_type": "code",
   "execution_count": 21,
   "metadata": {},
   "outputs": [
    {
     "data": {
      "text/plain": [
       "<matplotlib.legend.Legend at 0x7fec101e4b20>"
      ]
     },
     "execution_count": 21,
     "metadata": {},
     "output_type": "execute_result"
    },
    {
     "data": {
      "image/png": "[encoded data removed]",
      "text/plain": [
       "<Figure size 1000x400 with 1 Axes>"
      ]
     },
     "metadata": {},
     "output_type": "display_data"
    }
   ],
   "source": [
    "# Comparing the market average predicted by treatment, control city models to actual\n",
    "synthetic_tr = SyntheticControl(fit_intercept=True)     # sythetic control model to fit to treatment cities\n",
    "synthetic_co = SyntheticControl(fit_intercept=True)     # synthetic control model to fit to control cities\n",
    "\n",
    "synthetic_tr.fit(df_piv[resulting_geos.get(\"st_geos\")], y_avg)  # market average model for treatment cities\n",
    "synthetic_co.fit(df_piv[resulting_geos.get(\"sc_geos\")], y_avg)  # market average model for control cities\n",
    "\n",
    "# \n",
    "plt.figure(figsize=(10,4))\n",
    "plt.plot(y_avg, label=\"Average\", ls=\":\")\n",
    "plt.plot(y_avg.index, synthetic_co.predict(df_piv[resulting_geos.get(\"sc_geos\")]), label=\"sc\", ls=\"-.\")\n",
    "plt.plot(y_avg.index, synthetic_tr.predict(df_piv[resulting_geos.get(\"st_geos\")]), label=\"st\", ls=\"--\")\n",
    "plt.xticks(rotation=15)\n",
    "plt.legend()"
   ]
  },
  {
   "cell_type": "code",
   "execution_count": 22,
   "metadata": {},
   "outputs": [
    {
     "data": {
      "text/plain": [
       "87108.49604104998"
      ]
     },
     "execution_count": 22,
     "metadata": {},
     "output_type": "execute_result"
    }
   ],
   "source": [
    "resulting_geos.get(\"loss\")  # minimum loss after random search"
   ]
  },
  {
   "cell_type": "markdown",
   "metadata": {},
   "source": [
    "#### Switchback Experiment\n",
    "\n",
    "Synthetic control experiment designs are great for when you have a small number of units and you want to select the best of them to compose a treatment group. You still need a reasonable amount of units. If you have a small number of units say four units or even one unit, you need an alternative experiment design. For example, a small food delivery marketplace that operates within a single city, that uses dynamic pricing to regulate the supply and demand of the food delivery marketplace, and wants to to know how an increase in delivery fee can impact delivery time by attracting more drivers while throttling or postponing customer demand. Traditional A/B testing wouldn't work here because increasing the price for 50% of customers would also benefit those in the control group (no independence), since overall demand would fall, increasing the number of available drivers. This means the delivery time recorded is not only due to drivers being attracted to the marketplace because of the higher prices, but also due to drivers sitting around waiting for an order because demand fell. Also, synthetic control experiments wouldn't work either, because company operates in just one city. \n",
    "\n",
    "If the effect of rising prices dissipate quickly once they go back to normal level, the company can turn the price increases on and off multiple times and do a sequence of before-and-after comparisons. This approach, called switchback experiments, is great for when you have just one or a very small number of units. For this to work, the order of the carryover effect must be small. That is, the effect of the treatment cannot propagate to many periods after the treatment. In the food delivery case, increasing prices tend to cause an increase in supply of drivers shortly after; when prices are back to normal, the excess supply dissipates in a few hours. Hence, the order of the carryover is small, so switchback experiments are an interesting proposition."
   ]
  },
  {
   "cell_type": "code",
   "execution_count": 23,
   "metadata": {},
   "outputs": [
    {
     "data": {
      "text/html": [
       "<div>\n",
       "<style scoped>\n",
       "    .dataframe tbody tr th:only-of-type {\n",
       "        vertical-align: middle;\n",
       "    }\n",
       "\n",
       "    .dataframe tbody tr th {\n",
       "        vertical-align: top;\n",
       "    }\n",
       "\n",
       "    .dataframe thead th {\n",
       "        text-align: right;\n",
       "    }\n",
       "</style>\n",
       "<table border=\"1\" class=\"dataframe\">\n",
       "  <thead>\n",
       "    <tr style=\"text-align: right;\">\n",
       "      <th></th>\n",
       "      <th>d</th>\n",
       "      <th>delivery_time</th>\n",
       "      <th>delivery_time_1</th>\n",
       "      <th>delivery_time_0</th>\n",
       "      <th>tau</th>\n",
       "    </tr>\n",
       "  </thead>\n",
       "  <tbody>\n",
       "    <tr>\n",
       "      <th>0</th>\n",
       "      <td>1</td>\n",
       "      <td>2.84</td>\n",
       "      <td>2.84</td>\n",
       "      <td>5.84</td>\n",
       "      <td>-3.0</td>\n",
       "    </tr>\n",
       "    <tr>\n",
       "      <th>1</th>\n",
       "      <td>0</td>\n",
       "      <td>4.49</td>\n",
       "      <td>1.49</td>\n",
       "      <td>6.49</td>\n",
       "      <td>-5.0</td>\n",
       "    </tr>\n",
       "    <tr>\n",
       "      <th>2</th>\n",
       "      <td>0</td>\n",
       "      <td>7.27</td>\n",
       "      <td>2.27</td>\n",
       "      <td>8.27</td>\n",
       "      <td>-6.0</td>\n",
       "    </tr>\n",
       "    <tr>\n",
       "      <th>3</th>\n",
       "      <td>1</td>\n",
       "      <td>5.27</td>\n",
       "      <td>2.27</td>\n",
       "      <td>8.27</td>\n",
       "      <td>-6.0</td>\n",
       "    </tr>\n",
       "    <tr>\n",
       "      <th>4</th>\n",
       "      <td>1</td>\n",
       "      <td>5.59</td>\n",
       "      <td>4.59</td>\n",
       "      <td>10.59</td>\n",
       "      <td>-6.0</td>\n",
       "    </tr>\n",
       "  </tbody>\n",
       "</table>\n",
       "</div>"
      ],
      "text/plain": [
       "   d  delivery_time  delivery_time_1  delivery_time_0  tau\n",
       "0  1           2.84             2.84             5.84 -3.0\n",
       "1  0           4.49             1.49             6.49 -5.0\n",
       "2  0           7.27             2.27             8.27 -6.0\n",
       "3  1           5.27             2.27             8.27 -6.0\n",
       "4  1           5.59             4.59            10.59 -6.0"
      ]
     },
     "execution_count": 23,
     "metadata": {},
     "output_type": "execute_result"
    }
   ],
   "source": [
    "df = pd.read_csv(\"data/sb_exp_every.csv\")\n",
    "df.head()"
   ]
  },
  {
   "cell_type": "markdown",
   "metadata": {},
   "source": [
    "We have data for a switchback experiment for 120 time periods. The column $d$ is a boolean that indicates if the treatment (delivery price increases) is on or off. The $delivery\\_time$ is the outcome of interest; if treatment is on, we expect more drivers for direct pickup and therefore shorter delivery times otherwise shared pickups and longer delivery times. Because data is simulated, we have two counterfactual columns $delivery\\_time\\_0$ and $delivery\\_time\\_1$, which are what the delivery times for the hour would be if treatment was on or off respectively. The difference between $delivery_time_0$ and $delivery_time_1$ is the causal effect of the treatment $\\tau$, given in column $tau$. Since treatment decreases the delivery time, the effect is negative. Also due to carryover, the effects on the first two periods is smaller. "
   ]
  },
  {
   "cell_type": "code",
   "execution_count": 24,
   "metadata": {},
   "outputs": [
    {
     "data": {
      "text/plain": [
       "<matplotlib.legend.Legend at 0x7fec4073c280>"
      ]
     },
     "execution_count": 24,
     "metadata": {},
     "output_type": "execute_result"
    },
    {
     "data": {
      "image/png": "[encoded data removed]",
      "text/plain": [
       "<Figure size 1200x500 with 1 Axes>"
      ]
     },
     "metadata": {},
     "output_type": "display_data"
    }
   ],
   "source": [
    "plt.figure(figsize=(12,5))\n",
    "x = df.index \n",
    "plt.plot(x, df[\"delivery_time_0\"], ls=\":\", color=\"0.0\", label=\"Y0\")     # control counterfactual \n",
    "plt.plot(x, df[\"delivery_time_1\"], ls=\":\", color=\"0.8\", label=\"Y1\")     # treatment counterfactual\n",
    "plt.plot(x, df[\"delivery_time\"], color=\"0.4\", label=\"Y\")                # actual outcome\n",
    "plt.scatter(x[df[\"d\"]==1], df[\"delivery_time\"][df[\"d\"]==1], label=\"Treated\", marker=\"v\", color=\"0.4\") # treated \n",
    "plt.scatter(x[df[\"d\"]==0], df[\"delivery_time\"][df[\"d\"]==0], label=\"Control\", marker=\"o\", color=\"0.4\") # control \n",
    "plt.ylabel(\"delivery_time\")\n",
    "plt.xlabel(\"Hours\")\n",
    "plt.legend()"
   ]
  },
  {
   "cell_type": "markdown",
   "metadata": {},
   "source": [
    "The plot shows that the observed delivery time fluctuates betweent the delivery time you would have with treatment always on and always off. After three consecutive equal treatments, the observed outcome matches the one you would have with treatment always on or always off. At T=20 to T=23, due to chance, the treatment was on for three or more consecutive periods and the delivery time matches the delivery time you would have under the treatment being always on. Conversely, around T=32, a sequence where the treatment has been off (control) leads to the observed outcome matching the delivery time you would have if the treatment was always off. If the treatment was on or off for less than three consecutive periods, the observed outcome is somewhere in the middle. The outcome depends on the treatment of three periods: the immediate treatment and treatment from two periods before, ie the order of the carryover effect is 2. In reality, you wouldn't know the order of the carryover effect because you only see the observed outcome.\n",
    "\n",
    "$Y_t=f(d_{t-2}, d_{t-1}, d_t)$"
   ]
  },
  {
   "cell_type": "code",
   "execution_count": 25,
   "metadata": {},
   "outputs": [
    {
     "data": {
      "text/plain": [
       "0.5166666666666667"
      ]
     },
     "execution_count": 25,
     "metadata": {},
     "output_type": "execute_result"
    }
   ],
   "source": [
    "df.d.mean() # we randomize treatment in the time dimension"
   ]
  },
  {
   "cell_type": "code",
   "execution_count": 26,
   "metadata": {},
   "outputs": [
    {
     "data": {
      "text/html": [
       "<div>\n",
       "<style scoped>\n",
       "    .dataframe tbody tr th:only-of-type {\n",
       "        vertical-align: middle;\n",
       "    }\n",
       "\n",
       "    .dataframe tbody tr th {\n",
       "        vertical-align: top;\n",
       "    }\n",
       "\n",
       "    .dataframe thead th {\n",
       "        text-align: right;\n",
       "    }\n",
       "</style>\n",
       "<table border=\"1\" class=\"dataframe\">\n",
       "  <thead>\n",
       "    <tr style=\"text-align: right;\">\n",
       "      <th></th>\n",
       "      <th>d</th>\n",
       "      <th>delivery_time</th>\n",
       "      <th>delivery_time_1</th>\n",
       "      <th>delivery_time_0</th>\n",
       "      <th>tau</th>\n",
       "    </tr>\n",
       "  </thead>\n",
       "  <tbody>\n",
       "    <tr>\n",
       "      <th>19</th>\n",
       "      <td>1</td>\n",
       "      <td>2.90</td>\n",
       "      <td>1.90</td>\n",
       "      <td>7.90</td>\n",
       "      <td>-6.0</td>\n",
       "    </tr>\n",
       "    <tr>\n",
       "      <th>20</th>\n",
       "      <td>1</td>\n",
       "      <td>0.58</td>\n",
       "      <td>0.58</td>\n",
       "      <td>6.58</td>\n",
       "      <td>-6.0</td>\n",
       "    </tr>\n",
       "    <tr>\n",
       "      <th>21</th>\n",
       "      <td>1</td>\n",
       "      <td>3.28</td>\n",
       "      <td>3.28</td>\n",
       "      <td>9.28</td>\n",
       "      <td>-6.0</td>\n",
       "    </tr>\n",
       "    <tr>\n",
       "      <th>22</th>\n",
       "      <td>1</td>\n",
       "      <td>3.56</td>\n",
       "      <td>3.56</td>\n",
       "      <td>9.56</td>\n",
       "      <td>-6.0</td>\n",
       "    </tr>\n",
       "    <tr>\n",
       "      <th>23</th>\n",
       "      <td>1</td>\n",
       "      <td>3.72</td>\n",
       "      <td>3.72</td>\n",
       "      <td>9.72</td>\n",
       "      <td>-6.0</td>\n",
       "    </tr>\n",
       "    <tr>\n",
       "      <th>24</th>\n",
       "      <td>1</td>\n",
       "      <td>4.68</td>\n",
       "      <td>4.68</td>\n",
       "      <td>10.68</td>\n",
       "      <td>-6.0</td>\n",
       "    </tr>\n",
       "    <tr>\n",
       "      <th>25</th>\n",
       "      <td>0</td>\n",
       "      <td>6.61</td>\n",
       "      <td>3.61</td>\n",
       "      <td>9.61</td>\n",
       "      <td>-6.0</td>\n",
       "    </tr>\n",
       "    <tr>\n",
       "      <th>26</th>\n",
       "      <td>0</td>\n",
       "      <td>9.62</td>\n",
       "      <td>4.62</td>\n",
       "      <td>10.62</td>\n",
       "      <td>-6.0</td>\n",
       "    </tr>\n",
       "  </tbody>\n",
       "</table>\n",
       "</div>"
      ],
      "text/plain": [
       "    d  delivery_time  delivery_time_1  delivery_time_0  tau\n",
       "19  1           2.90             1.90             7.90 -6.0\n",
       "20  1           0.58             0.58             6.58 -6.0\n",
       "21  1           3.28             3.28             9.28 -6.0\n",
       "22  1           3.56             3.56             9.56 -6.0\n",
       "23  1           3.72             3.72             9.72 -6.0\n",
       "24  1           4.68             4.68            10.68 -6.0\n",
       "25  0           6.61             3.61             9.61 -6.0\n",
       "26  0           9.62             4.62            10.62 -6.0"
      ]
     },
     "execution_count": 26,
     "metadata": {},
     "output_type": "execute_result"
    }
   ],
   "source": [
    "df.iloc[19:27,:] # order of carryover effect"
   ]
  },
  {
   "cell_type": "code",
   "execution_count": 27,
   "metadata": {},
   "outputs": [
    {
     "data": {
      "text/html": [
       "<div>\n",
       "<style scoped>\n",
       "    .dataframe tbody tr th:only-of-type {\n",
       "        vertical-align: middle;\n",
       "    }\n",
       "\n",
       "    .dataframe tbody tr th {\n",
       "        vertical-align: top;\n",
       "    }\n",
       "\n",
       "    .dataframe thead th {\n",
       "        text-align: right;\n",
       "    }\n",
       "</style>\n",
       "<table border=\"1\" class=\"dataframe\">\n",
       "  <thead>\n",
       "    <tr style=\"text-align: right;\">\n",
       "      <th></th>\n",
       "      <th>d</th>\n",
       "      <th>delivery_time</th>\n",
       "      <th>delivery_time_1</th>\n",
       "      <th>delivery_time_0</th>\n",
       "      <th>tau</th>\n",
       "    </tr>\n",
       "  </thead>\n",
       "  <tbody>\n",
       "    <tr>\n",
       "      <th>29</th>\n",
       "      <td>1</td>\n",
       "      <td>8.96</td>\n",
       "      <td>5.96</td>\n",
       "      <td>11.96</td>\n",
       "      <td>-6.0</td>\n",
       "    </tr>\n",
       "    <tr>\n",
       "      <th>30</th>\n",
       "      <td>0</td>\n",
       "      <td>8.71</td>\n",
       "      <td>4.71</td>\n",
       "      <td>10.71</td>\n",
       "      <td>-6.0</td>\n",
       "    </tr>\n",
       "    <tr>\n",
       "      <th>31</th>\n",
       "      <td>0</td>\n",
       "      <td>9.83</td>\n",
       "      <td>4.83</td>\n",
       "      <td>10.83</td>\n",
       "      <td>-6.0</td>\n",
       "    </tr>\n",
       "    <tr>\n",
       "      <th>32</th>\n",
       "      <td>0</td>\n",
       "      <td>10.25</td>\n",
       "      <td>4.25</td>\n",
       "      <td>10.25</td>\n",
       "      <td>-6.0</td>\n",
       "    </tr>\n",
       "    <tr>\n",
       "      <th>33</th>\n",
       "      <td>0</td>\n",
       "      <td>9.71</td>\n",
       "      <td>3.71</td>\n",
       "      <td>9.71</td>\n",
       "      <td>-6.0</td>\n",
       "    </tr>\n",
       "    <tr>\n",
       "      <th>34</th>\n",
       "      <td>0</td>\n",
       "      <td>9.43</td>\n",
       "      <td>3.43</td>\n",
       "      <td>9.43</td>\n",
       "      <td>-6.0</td>\n",
       "    </tr>\n",
       "    <tr>\n",
       "      <th>35</th>\n",
       "      <td>0</td>\n",
       "      <td>9.60</td>\n",
       "      <td>3.60</td>\n",
       "      <td>9.60</td>\n",
       "      <td>-6.0</td>\n",
       "    </tr>\n",
       "    <tr>\n",
       "      <th>36</th>\n",
       "      <td>0</td>\n",
       "      <td>8.00</td>\n",
       "      <td>2.00</td>\n",
       "      <td>8.00</td>\n",
       "      <td>-6.0</td>\n",
       "    </tr>\n",
       "    <tr>\n",
       "      <th>37</th>\n",
       "      <td>1</td>\n",
       "      <td>5.90</td>\n",
       "      <td>2.90</td>\n",
       "      <td>8.90</td>\n",
       "      <td>-6.0</td>\n",
       "    </tr>\n",
       "    <tr>\n",
       "      <th>38</th>\n",
       "      <td>1</td>\n",
       "      <td>4.93</td>\n",
       "      <td>3.93</td>\n",
       "      <td>9.93</td>\n",
       "      <td>-6.0</td>\n",
       "    </tr>\n",
       "    <tr>\n",
       "      <th>39</th>\n",
       "      <td>1</td>\n",
       "      <td>2.72</td>\n",
       "      <td>2.72</td>\n",
       "      <td>8.72</td>\n",
       "      <td>-6.0</td>\n",
       "    </tr>\n",
       "  </tbody>\n",
       "</table>\n",
       "</div>"
      ],
      "text/plain": [
       "    d  delivery_time  delivery_time_1  delivery_time_0  tau\n",
       "29  1           8.96             5.96            11.96 -6.0\n",
       "30  0           8.71             4.71            10.71 -6.0\n",
       "31  0           9.83             4.83            10.83 -6.0\n",
       "32  0          10.25             4.25            10.25 -6.0\n",
       "33  0           9.71             3.71             9.71 -6.0\n",
       "34  0           9.43             3.43             9.43 -6.0\n",
       "35  0           9.60             3.60             9.60 -6.0\n",
       "36  0           8.00             2.00             8.00 -6.0\n",
       "37  1           5.90             2.90             8.90 -6.0\n",
       "38  1           4.93             3.93             9.93 -6.0\n",
       "39  1           2.72             2.72             8.72 -6.0"
      ]
     },
     "execution_count": 27,
     "metadata": {},
     "output_type": "execute_result"
    }
   ],
   "source": [
    "df.iloc[29:40,:] # order of carryover effect is 2"
   ]
  },
  {
   "cell_type": "markdown",
   "metadata": {},
   "source": [
    "#### Potential Outcome of Sequences\n",
    "\n",
    "Since the effect of treatment carries over to subsequent time, when it comes to switchback experiments, the potential outcome has to be defined in terms of a vector of treatments, $Y_t(D)=Y_t([d_0,d_1,d_2,...,d_T])$. First, assuming no anticipation of the treatment, the potential outcome will only depend on current and past treatment, but not on future ones, so we need not consider all T periods ie $Y_t(D)=Y_t([d_0,d_1,d_2,...,d_t])$. Second, assuming you know the size of the carryover period $m$, you could write it as $Y_t(D)=Y_t([d_{t-m},d_{t-(m-1)},..., d_t])$. In the example dataset, $m=2$, the potential outcome simplifies to $Y_t(D)=Y_t([d_{t-2},d_{t-1},d_t])$, a lot simpler than you would have with no assumptions at all. Having the potential outcome vectors, we can write the total effect of the treatment as the effect of going from an always off treatment to an always on treatment (vector).\n",
    "\n",
    "$\\tau_m = E[Y_t(1_{t-m},...,1_t) - Y_t(0_{t-m}, ..., 0_t)]$ \n",
    "\n",
    "This is the effect of going from an always off treatment to an always on treatment. In the case where $m=2$, this would be $E[Y_t(1,1,1) - Y_t(0,0,0)]$, which of course requires you know $m$, the carryover period."
   ]
  },
  {
   "cell_type": "markdown",
   "metadata": {},
   "source": [
    "#### Estimating the Order of Carryover Effect\n",
    "\n",
    "Say you know an upper bound on m. For instance, you know that the effect of price increases doesn't last for more than 6 hours. In that case, you can regression-estimate the model (using the previous 6 timestamps), and read the parameter estimate's size and significance. \n",
    "\n",
    "$y_t = \\alpha + d_t + d_{t-1}, ... , d_{t-K} + e_t$\n",
    "\n",
    "The order of the carryover effect will depend on which parameters are statistically significant and also have a large impact on the outcome. This also imposes another assumpiton, which is that the effects of the lags are additive. \n",
    "\n",
    "$Y_t = f(d_t, d_{t-1}, d_{t-2}) = \\alpha + d_t + d_{t-1}, d_{t-2} + e_t$\n",
    "\n",
    "Once you have the data with its lags, all you have to do is regress the outcome on the lags and the current treatment (which can be thought of as lag 0). Using pandas shift() and assign methods we can add the lagged data in preparation for regression. The shift() method will introdue NaN values for undefined lags. Using statsmodels for the regression is convenient here, because it will drop the rows with NaNs."
   ]
  },
  {
   "cell_type": "code",
   "execution_count": 28,
   "metadata": {},
   "outputs": [
    {
     "data": {
      "text/html": [
       "<div>\n",
       "<style scoped>\n",
       "    .dataframe tbody tr th:only-of-type {\n",
       "        vertical-align: middle;\n",
       "    }\n",
       "\n",
       "    .dataframe tbody tr th {\n",
       "        vertical-align: top;\n",
       "    }\n",
       "\n",
       "    .dataframe thead th {\n",
       "        text-align: right;\n",
       "    }\n",
       "</style>\n",
       "<table border=\"1\" class=\"dataframe\">\n",
       "  <thead>\n",
       "    <tr style=\"text-align: right;\">\n",
       "      <th></th>\n",
       "      <th>d_l0</th>\n",
       "      <th>d_l1</th>\n",
       "      <th>d_l2</th>\n",
       "      <th>d_l3</th>\n",
       "      <th>d_l4</th>\n",
       "      <th>d_l5</th>\n",
       "      <th>d_l6</th>\n",
       "    </tr>\n",
       "  </thead>\n",
       "  <tbody>\n",
       "    <tr>\n",
       "      <th>0</th>\n",
       "      <td>1</td>\n",
       "      <td>NaN</td>\n",
       "      <td>NaN</td>\n",
       "      <td>NaN</td>\n",
       "      <td>NaN</td>\n",
       "      <td>NaN</td>\n",
       "      <td>NaN</td>\n",
       "    </tr>\n",
       "    <tr>\n",
       "      <th>1</th>\n",
       "      <td>0</td>\n",
       "      <td>1.0</td>\n",
       "      <td>NaN</td>\n",
       "      <td>NaN</td>\n",
       "      <td>NaN</td>\n",
       "      <td>NaN</td>\n",
       "      <td>NaN</td>\n",
       "    </tr>\n",
       "    <tr>\n",
       "      <th>2</th>\n",
       "      <td>0</td>\n",
       "      <td>0.0</td>\n",
       "      <td>1.0</td>\n",
       "      <td>NaN</td>\n",
       "      <td>NaN</td>\n",
       "      <td>NaN</td>\n",
       "      <td>NaN</td>\n",
       "    </tr>\n",
       "    <tr>\n",
       "      <th>3</th>\n",
       "      <td>1</td>\n",
       "      <td>0.0</td>\n",
       "      <td>0.0</td>\n",
       "      <td>1.0</td>\n",
       "      <td>NaN</td>\n",
       "      <td>NaN</td>\n",
       "      <td>NaN</td>\n",
       "    </tr>\n",
       "    <tr>\n",
       "      <th>4</th>\n",
       "      <td>1</td>\n",
       "      <td>1.0</td>\n",
       "      <td>0.0</td>\n",
       "      <td>0.0</td>\n",
       "      <td>1.0</td>\n",
       "      <td>NaN</td>\n",
       "      <td>NaN</td>\n",
       "    </tr>\n",
       "  </tbody>\n",
       "</table>\n",
       "</div>"
      ],
      "text/plain": [
       "   d_l0  d_l1  d_l2  d_l3  d_l4  d_l5  d_l6\n",
       "0     1   NaN   NaN   NaN   NaN   NaN   NaN\n",
       "1     0   1.0   NaN   NaN   NaN   NaN   NaN\n",
       "2     0   0.0   1.0   NaN   NaN   NaN   NaN\n",
       "3     1   0.0   0.0   1.0   NaN   NaN   NaN\n",
       "4     1   1.0   0.0   0.0   1.0   NaN   NaN"
      ]
     },
     "execution_count": 28,
     "metadata": {},
     "output_type": "execute_result"
    }
   ],
   "source": [
    "df_lags = df.assign(**{                             # using assign(), shift and **operator to add lag columns\n",
    "    f\"d_l{l}\" : df[\"d\"].shift(l) for l in range(7) # each col d_l_x, the result of shifting df['d'] by x periods\n",
    "})\n",
    "df_lags[[f\"d_l{l}\" for l in range(7)]].head() #"
   ]
  },
  {
   "cell_type": "code",
   "execution_count": 29,
   "metadata": {},
   "outputs": [
    {
     "data": {
      "text/html": [
       "<table class=\"simpletable\">\n",
       "<tr>\n",
       "      <td></td>         <th>coef</th>     <th>std err</th>      <th>t</th>      <th>P>|t|</th>  <th>[0.025</th>    <th>0.975]</th>  \n",
       "</tr>\n",
       "<tr>\n",
       "  <th>Intercept</th> <td>    9.3270</td> <td>    0.461</td> <td>   20.246</td> <td> 0.000</td> <td>    8.414</td> <td>   10.240</td>\n",
       "</tr>\n",
       "<tr>\n",
       "  <th>d_l0</th>      <td>   -2.9645</td> <td>    0.335</td> <td>   -8.843</td> <td> 0.000</td> <td>   -3.629</td> <td>   -2.300</td>\n",
       "</tr>\n",
       "<tr>\n",
       "  <th>d_l1</th>      <td>   -1.8861</td> <td>    0.339</td> <td>   -5.560</td> <td> 0.000</td> <td>   -2.559</td> <td>   -1.213</td>\n",
       "</tr>\n",
       "<tr>\n",
       "  <th>d_l2</th>      <td>   -1.0013</td> <td>    0.340</td> <td>   -2.943</td> <td> 0.004</td> <td>   -1.676</td> <td>   -0.327</td>\n",
       "</tr>\n",
       "<tr>\n",
       "  <th>d_l3</th>      <td>    0.2594</td> <td>    0.341</td> <td>    0.762</td> <td> 0.448</td> <td>   -0.416</td> <td>    0.935</td>\n",
       "</tr>\n",
       "<tr>\n",
       "  <th>d_l4</th>      <td>    0.1431</td> <td>    0.340</td> <td>    0.421</td> <td> 0.675</td> <td>   -0.531</td> <td>    0.817</td>\n",
       "</tr>\n",
       "<tr>\n",
       "  <th>d_l5</th>      <td>    0.1388</td> <td>    0.340</td> <td>    0.408</td> <td> 0.684</td> <td>   -0.536</td> <td>    0.813</td>\n",
       "</tr>\n",
       "<tr>\n",
       "  <th>d_l6</th>      <td>    0.5588</td> <td>    0.336</td> <td>    1.662</td> <td> 0.099</td> <td>   -0.108</td> <td>    1.225</td>\n",
       "</tr>\n",
       "</table>"
      ],
      "text/plain": [
       "<class 'statsmodels.iolib.table.SimpleTable'>"
      ]
     },
     "execution_count": 29,
     "metadata": {},
     "output_type": "execute_result"
    }
   ],
   "source": [
    "# Regressing outcome against lags to identify carryover\n",
    "import statsmodels.formula.api as smf \n",
    "\n",
    "model = smf.ols(\"delivery_time ~\" + \"+\".join([f\"d_l{l}\" for l in range(7)]), # formula\n",
    "                data=df_lags).fit()\n",
    "model.summary().tables[1]"
   ]
  },
  {
   "cell_type": "markdown",
   "metadata": {},
   "source": [
    "Looking at the lag parameters, they are significant up to lag 2 ((P>|t|) less than 0.05) which indicates a carryover effect of 2. How do we use said information to determine the estimate for the total effect, $\\tau_m$, and the confidence interval of said estimate. With a regression model, you don't need to know the correct order of the carryover effect $m$ to estimate the total effect $\\tau_m$, as long as your regression contains more lags than the correct $m$ you can just sum up all the lag parameter estimates. To get the variance, you also have to sum up the variance of each individual lag. When using a bunch of unneeded lags, the total effect estimate will be imprecise, but if you settle for exactly the needed carryover lags, you can reduce the variance substantially.\n",
    "\n",
    "$\\hat \\tau_m=\\Sigma_{l=0}^{lags}\\hat d_{t-l}$"
   ]
  },
  {
   "cell_type": "code",
   "execution_count": 30,
   "metadata": {},
   "outputs": [
    {
     "name": "stdout",
     "output_type": "stream",
     "text": [
      "tau_m: -4.751686115272031\n",
      "95% CI: [-6.508718378154567, -2.9946538523894954]\n"
     ]
    }
   ],
   "source": [
    "# Estimating treatment effect using more than needed lags\n",
    "tau_m_hat = model.params[1:].sum()                  # parameter estimates, remember to remove the intercept\n",
    "se_tau_m_hat = np.sqrt((model.bse[1:]**2).sum())    # standard error, remember to remove the intercept\n",
    "print(\"tau_m:\", tau_m_hat)\n",
    "print(\"95% CI:\", [tau_m_hat - 1.96*se_tau_m_hat,\n",
    "                  tau_m_hat + 1.96*se_tau_m_hat])   # 95% CI"
   ]
  },
  {
   "cell_type": "code",
   "execution_count": 31,
   "metadata": {},
   "outputs": [
    {
     "name": "stdout",
     "output_type": "stream",
     "text": [
      "tau_m: -5.851856895442294\n",
      "95% CI: [-7.000105171362165, -4.703608619522424]\n"
     ]
    }
   ],
   "source": [
    "# Regressing the outcome against only the carryover lags ie lag 0 (current), 1, 2\n",
    "tau_m_hat = model.params[1:4].sum()                 # parameter estimates, remove intercept and lags after lag 2\n",
    "se_tau_m_hat = np.sqrt((model.bse[1:4]**2).sum())\n",
    "print(\"tau_m:\", tau_m_hat)\n",
    "print(\"95% CI:\", [tau_m_hat - 1.96*se_tau_m_hat,\n",
    "                  tau_m_hat + 1.96*se_tau_m_hat]) "
   ]
  },
  {
   "cell_type": "markdown",
   "metadata": {},
   "source": [
    "#### Design-Based Estimation\n",
    "\n",
    "The previous procedure depends on a correct specification of the model for the potential outcome $Y_t(D)$, which for time series, is not a trivial task. One alternative is to estimate $\\tau_m$ with something like inverse propensity weighting (IPW), which would only require knowledge of how the treatment was assigned, which is controlled by the designer of the experiment. This approach only requires you to know the carryover effect order, m.\n",
    "\n",
    "IPW reconstructs a potential outcome by scaling up the observed outcome by inverse treatment probability $E[\\hat Y_d]=N^{-1}\\Sigma(Y_d １(D=d)/P(D=d)$, taking into account that potential outcome is defined in terms of a vector of treatment. In the instance that the effect carries over for two periods, m=2, you want to reconstruct $Y_t(0,0,0)$ and $Y_t(1,1,1)$, which requries calculating a running probability of observing three equal treatments in a row. For $m=2$, that would be $P(d_{t-2}=d, d_{t-1}=d, d_t=d)$ or more generally $P(D_{t-m:t}=d)$ where $D_{t-m:t}$ is the vector of the current and last $m$ treatments and $d$ is a vector of constant treatment. This depends on the randomization probability $p$. Assuming $p=50\\%$, it means at each randomization point, the treatment has a 50% chance of staying the same or switching. In terms of experiment design, this increases the power of the experiment as it increases the treatment variance. In terms of estimation procedure, it makes so that $P(D_{t-m:t}=1)=P(D_{t-m:t}=0)$. This doesn't mean $P(D_{t-m:t}=d)$ will be the same everywhere; the probability depends on the randomization points and where you are in the sequence. If $p=50\\%$, and treatment was randomized at every time period, the running probability of observing three consecutive treatments, like [1,1,1,1,1,1] is [na,na,.5^3,.5^3,.5^3]. However, if you randomize every three periods, the same sequence has a running probability of [na,na, .5, .5^2,.5^2,.5], because at $t=4,5$, the lag 2 window, which contains current time period and previous two, will contain two randomization points."
   ]
  },
  {
   "cell_type": "code",
   "execution_count": 32,
   "metadata": {},
   "outputs": [
    {
     "data": {
      "text/plain": [
       "array([ True, False, False,  True, False, False])"
      ]
     },
     "execution_count": 32,
     "metadata": {},
     "output_type": "execute_result"
    }
   ],
   "source": [
    "rad_points_3 = np.array([True, False,False]*(2))    # randomization happens every three periods\n",
    "rad_points_3                                        # m+1 where m= carryover period, 1 is current time"
   ]
  },
  {
   "cell_type": "code",
   "execution_count": 38,
   "metadata": {},
   "outputs": [
    {
     "name": "stdout",
     "output_type": "stream",
     "text": [
      "[1 0 0 1 0 0]\n"
     ]
    },
    {
     "data": {
      "text/plain": [
       "array([1, 1, 1, 2, 2, 2])"
      ]
     },
     "execution_count": 38,
     "metadata": {},
     "output_type": "execute_result"
    }
   ],
   "source": [
    "# randomization windows and randomization points\n",
    "print(rad_points_3*1)\n",
    "rad_points_3.cumsum() # randomization windows have distinct integers (same integer, same randomization window)"
   ]
  },
  {
   "cell_type": "code",
   "execution_count": 34,
   "metadata": {},
   "outputs": [
    {
     "data": {
      "text/plain": [
       "array([[1, 1, 1],\n",
       "       [1, 1, 2],\n",
       "       [1, 2, 2],\n",
       "       [2, 2, 2]])"
      ]
     },
     "execution_count": 34,
     "metadata": {},
     "output_type": "execute_result"
    }
   ],
   "source": [
    "# create carryover window representing the values affecting current outcome in time\n",
    "from numpy.lib.stride_tricks import sliding_window_view \n",
    "\n",
    "m = 2     # carryover period, m, is # of past vals affecting current; +1 for current gives window size of m+1\n",
    "sliding_window_view(rad_points_3.cumsum(), window_shape=m+1)    # sliding_window discards windows for first m "
   ]
  },
  {
   "cell_type": "code",
   "execution_count": 35,
   "metadata": {},
   "outputs": [
    {
     "data": {
      "text/plain": [
       "array([[0, 0],\n",
       "       [0, 1],\n",
       "       [1, 0],\n",
       "       [0, 0]])"
      ]
     },
     "execution_count": 35,
     "metadata": {},
     "output_type": "execute_result"
    }
   ],
   "source": [
    "# number of randomization windows in each carryover window (unique integers in each carryover window)\n",
    "\n",
    "np.diff(sliding_window_view(rad_points_3.cumsum(), window_shape=m+1), # generate sliding windows of size m+1\n",
    "                            axis=1) # differencing subsequent entries will indicate if integer changed\n"
   ]
  },
  {
   "cell_type": "code",
   "execution_count": 40,
   "metadata": {},
   "outputs": [
    {
     "data": {
      "text/plain": [
       "array([nan, nan,  1.,  2.,  2.,  1.])"
      ]
     },
     "execution_count": 40,
     "metadata": {},
     "output_type": "execute_result"
    }
   ],
   "source": [
    "# sum result of np.diff() to yield number of randomization windows in each carryover window\n",
    "n_rand_windows = np.concatenate([\n",
    "    [np.nan]*m, # add np.nan for the first m windows discarded by sliding_window_view()\n",
    "    np.diff(sliding_window_view(rad_points_3.cumsum(),3), \n",
    "            axis=1)\n",
    "            .sum(axis=1)+1 # add 1 to retrieve first window at each point which becomes 0s after difference\n",
    "])\n",
    "n_rand_windows  # number of randomization windows in each carryover window "
   ]
  },
  {
   "cell_type": "code",
   "execution_count": 41,
   "metadata": {},
   "outputs": [
    {
     "data": {
      "text/plain": [
       "array([ nan,  nan, 0.5 , 0.25, 0.25, 0.5 ])"
      ]
     },
     "execution_count": 41,
     "metadata": {},
     "output_type": "execute_result"
    }
   ],
   "source": [
    "# get probability vector by taking probability of experiment 0.5, exponentiate it by preceding array\n",
    "p = 0.5\n",
    "p**n_rand_windows"
   ]
  },
  {
   "cell_type": "code",
   "execution_count": 45,
   "metadata": {},
   "outputs": [],
   "source": [
    "# Compute P(D_{t-m:t}=d)\n",
    "def compute_p(rand_points, m, p=0.5):\n",
    "    n_windows_last_m = np.concatenate([\n",
    "        [np.nan]*m,\n",
    "        np.diff(sliding_window_view(rand_points.cumsum(), m+1),\n",
    "                axis=1).sum(axis=1) + 1\n",
    "    ])\n",
    "    return p**n_windows_last_m"
   ]
  },
  {
   "cell_type": "markdown",
   "metadata": {},
   "source": [
    "We define the randomization interval (boleans), convert to integers, use the cumulative sum to identify the randomization points and windows (all values in the same window will have the same cumulative sum). Then we use the sliding_window_view() to construct carryover windows from the cumulative sum values and window size of m+1 (+1 for the present value, m for the carryover values). This function discards the the first m windows, so we replace them with np.nan since they don't have enough precedent values. To recover the number of randomization points there are in a given carryover window, we pass the result of sliding_window_view() to np.diff() for first-order difference for each carryover window. This operation will identify the randomization points from the carryover windows, since the cumulative sum increases from one randomization interval to another. If all the points in a carryover window are from the same randomization interval, the first-order difference along axis=1, will yield 0's. So to convert the difference to number of randomization points, we sum  along axis=1, and add a 1 to account to the starting window that is lost in first-order difference. With the number of randomization points in each carryover window, we raise the probability of experiment, eg $p=0.5$ and exponentiate it by the array of number of randomization points. \n",
    "\n",
    "All of the above is to compute $P(D_{t-m:t}=d)$, you still have to look at the rest of the estimator for the potential outcome:\n",
    "\n",
    "$\\hat Y(d)=\\frac{1}{T-m}\\Sigma_{t=m+1}^T Y_t \\frac{１(D_{t-m:t}=d)}{P(D_{t-m:t}=d)}$\n",
    "\n",
    "This estimator will scale up the observed outcome by running probability whenever the last treatment and the current one are all the same. Then it will average those scaled-up outcomes. To code this, the only missing piece is the indicator function in the numerator, which evaluates to true whenever the last $m+1$ treatments are equal to d. With the sliding_window_view(), we can create the $m+1$ window view of the treatment array, check if all the elements in that window are equal to the treatment (by checking if each one is equal and checking if each element evaluated to True). The IPW estimator for switchback experiments.\n",
    "\n",
    "$\\tau=\\frac{1}{T-m}\\Sigma^T_{t=m+1}\\{ Y_t(\\frac{１(D_{t-m:t}=1)}{P(D_{t-m:t}=1)}-\\frac{１(D_{t-m:t}=0)}{P(D_{t-m:t}=0)})\\}$"
   ]
  },
  {
   "cell_type": "code",
   "execution_count": 53,
   "metadata": {},
   "outputs": [
    {
     "data": {
      "text/plain": [
       "array([  nan,   nan, 0.125, 0.125, 0.125, 0.125])"
      ]
     },
     "execution_count": 53,
     "metadata": {},
     "output_type": "execute_result"
    }
   ],
   "source": [
    "# regular randomization intervals\n",
    "compute_p(np.ones(6)==1,2,0.5) # rand_points needs start out as boolean hence np.ones(6)==1"
   ]
  },
  {
   "cell_type": "code",
   "execution_count": 46,
   "metadata": {},
   "outputs": [
    {
     "data": {
      "text/plain": [
       "array([ nan,  nan, 0.5 , 0.25, 0.25, 0.25, 0.25])"
      ]
     },
     "execution_count": 46,
     "metadata": {},
     "output_type": "execute_result"
    }
   ],
   "source": [
    "# irregular randomization intervals\n",
    "rand_points = np.array([True, False, False, True, False, True, False])\n",
    "compute_p(rand_points, 2, 0.5)"
   ]
  },
  {
   "cell_type": "code",
   "execution_count": 49,
   "metadata": {},
   "outputs": [],
   "source": [
    "# indicator function true when last m elements equal d\n",
    "def last_m_d_equal(d_vec, d, m):\n",
    "    return np.concatenate([\n",
    "        [np.nan]*m,\n",
    "        (sliding_window_view(d_vec, m+1)==d).all(axis=1) # check window elements equal d booleans are all True\n",
    "    ])"
   ]
  },
  {
   "cell_type": "code",
   "execution_count": 50,
   "metadata": {},
   "outputs": [
    {
     "name": "stdout",
     "output_type": "stream",
     "text": [
      "[nan nan  1.  0.  0.  0.]\n"
     ]
    }
   ],
   "source": [
    "print(last_m_d_equal([1,1,1,0,0,0], 1, m=2))    # identify points for Y(1,1,1)"
   ]
  },
  {
   "cell_type": "code",
   "execution_count": 51,
   "metadata": {},
   "outputs": [
    {
     "name": "stdout",
     "output_type": "stream",
     "text": [
      "[nan nan  0.  0.  0.  1.]\n"
     ]
    }
   ],
   "source": [
    "print(last_m_d_equal([1,1,1,0,0,0], 0, m=2))    # identify points for Y(0,0,0)"
   ]
  },
  {
   "cell_type": "code",
   "execution_count": 52,
   "metadata": {},
   "outputs": [],
   "source": [
    "def ipw_switchback(d, y, rand_points, m, p=0.5):\n",
    "    p_last_m_equal_1 = compute_p(rand_points, m=m, p=p)     # probability of treatment using p\n",
    "    p_last_m_equal_0 = compute_p(rand_points, m=m, p=1-p)   # probability of control using 1-p\n",
    "\n",
    "    last_m_is_1 = last_m_d_equal(d, 1, m)                   # indicator if last m was 1\n",
    "    last_m_is_0 = last_m_d_equal(d, 0, m)                   # indicator if last m was 0\n",
    "\n",
    "    y1_rec = y*last_m_is_1/p_last_m_equal_1     # potential outcome if treated by scaling up treated outcomes\n",
    "    y0_rec = y*last_m_is_0/p_last_m_equal_0     # potential outcome if control by scaling up control outcomes\n",
    "\n",
    "    # treatment effect, difference in potential outcomes, average of only periods with complete carryovers\n",
    "    return np.mean((y1_rec - y0_rec)[m:])  "
   ]
  },
  {
   "cell_type": "code",
   "execution_count": 54,
   "metadata": {},
   "outputs": [
    {
     "data": {
      "text/plain": [
       "-7.426440677966101"
      ]
     },
     "execution_count": 54,
     "metadata": {},
     "output_type": "execute_result"
    }
   ],
   "source": [
    "# treatement effect of switchback expriments\n",
    "ipw_switchback(df[\"d\"],                 # treatment indicator\n",
    "               df[\"delivery_time\"],     # outcome\n",
    "               np.ones(len(df))==1,     # randomization points, (treatment randomized each period)\n",
    "               m=2, p=0.5)              # carryover , probability of treatment"
   ]
  },
  {
   "cell_type": "code",
   "execution_count": 64,
   "metadata": {},
   "outputs": [
    {
     "data": {
      "text/plain": [
       "<matplotlib.legend.Legend at 0x7fec3203c940>"
      ]
     },
     "execution_count": 64,
     "metadata": {},
     "output_type": "execute_result"
    },
    {
     "data": {
      "image/png": "[encoded data removed]",
      "text/plain": [
       "<Figure size 800x400 with 2 Axes>"
      ]
     },
     "metadata": {},
     "output_type": "display_data"
    }
   ],
   "source": [
    "from matplotlib import pyplot as plt \n",
    "from statsmodels.tsa.arima_process import ArmaProcess \n",
    "\n",
    "def gen_d(rand_points, p):\n",
    "    result = [np.random.binomial(1,p)]\n",
    "\n",
    "    for t in rand_points[1:]:\n",
    "        result.append(np.random.binomial(1,p)*t + (1-t)*result[-1])\n",
    "    return np.array(result)\n",
    "\n",
    "def y_given_d(d, effect_params, T, seed=None):\n",
    "    np.random.seed(seed) if not seed is None else None\n",
    "    x = np.arange(1, T+1)\n",
    "    return (np.log(x+1)\n",
    "            + 2*np.sin(x*2*np.pi/24)\n",
    "            + np.convolve(~d.astype(bool), effect_params)[:-(len(effect_params)-1)]\n",
    "            + ArmaProcess([3,2,1], 12).generate_sample(T)).round(2)\n",
    "\n",
    "def gen_data_rand_every():\n",
    "    effect_params = [3,2,1]             # ArmaProcess for time series\n",
    "    T=120                               # total period\n",
    "    p=0.5                               # probability of treatment\n",
    "    m=2                                 # carryover period\n",
    "\n",
    "    d = np.random.binomial(1, 0.5, T)   # number of sample, probability of success, size; treated indicator\n",
    "    y = y_given_d(d, [3,2,1], T)        # outcome   \n",
    "    rand_points = np.ones(T)==1         # treatment randomization every period\n",
    "\n",
    "    return pd.DataFrame(dict(d=d, y=y, rand_points=rand_points)) # treated, outcome, randomized\n",
    "\n",
    "def tau_ols(df):\n",
    "    df_lags = df.assign(**{\n",
    "        f\"d_l{l}\" : df[\"d\"].shift(l) for l in range(3) # add carryover and current treated dummies \n",
    "    })\n",
    "    model = smf.ols(\"y ~\" + \"+\".join([f\"d_l{l}\" for l in range(3)]), \n",
    "                    data=df_lags).fit()     # regress outcome over carryover and treated dummies\n",
    "    return model.params[1:].sum()           # sum up all except intercept for treatment effect\n",
    "\n",
    "def tau_ipw(df):\n",
    "    return ipw_switchback(df[\"d\"],\n",
    "                          df[\"y\"],\n",
    "                          df[\"rand_points\"], # a column indicating if treatment was randomized at point in time\n",
    "                          m=2, p=0.5)\n",
    "\n",
    "np.random.seed(123)\n",
    "exps_dfs =[gen_data_rand_every() for _ in range(500)]               # generate 500 differnt sample dataframe\n",
    "\n",
    "fig, (ax1, ax2) = plt.subplots(2,1, sharex=True, figsize=(8,4))\n",
    "ols_taus = list(map(tau_ols, exps_dfs))         # fit ols to obtain treatment effect values for each dataframe\n",
    "ax1.hist(ols_taus, label=\"OLS tau\", color=\"0.5\")    # histogram of treatment effect values\n",
    "ax1.vlines(-6, 0, 120, color=\"0\", label=\"True tau\") # true tau of 0\n",
    "ax1.legend()\n",
    "\n",
    "ipw_taus = list(map(tau_ipw, exps_dfs))         # fit ipw to obtain treatment effect values for each dataframe\n",
    "ax2.hist(ipw_taus, label=\"IPW tau\", color=\"0.5\")    # histogram of treatment effect values\n",
    "ax2.vlines(-6, 0, 120, color=\"0\",label=\"True tau\")  # true tau of 0\n",
    "ax2.legend()"
   ]
  },
  {
   "cell_type": "markdown",
   "metadata": {},
   "source": [
    "#### Optimal Switchback Design\n",
    "\n",
    "From any estimator, more variance is undesirable. So if designing a switchback experiment, you want to look at the worst possible case and make the least amount of assumptions possible. It is thus attractive to take the IPW estimator and come up with an experiment design, that reduces its variance. \n",
    "\n",
    "The IPW estimator only keeps the sequences with $m+1$ consecutive equal treatments. This means it throws away any $m+1$ sequence that has more than one treatment assignment. Looking back at the plot of observed and potential outcomes, it would mean throwing alway all data in between the upper and lower potential outcomes. So, if you want to use more data, make sure you have more consecutive equal treatments by setting all the treatment sequences to either 0 or 1. This would maximize usable data, but decrease the variance of the treatment, a situation, that makes estimation impossible (because we only have treatment or only control). The variance of the estimator can thus be decreased by having both more useful data and higher treatment variance. You have to find a balance.\n",
    "\n",
    "Intuitively, one way to have more useful data and more treatment variance is by randomizing every $m+1$ period. If the order of the carryover effect is 2, you would randomize every three periods. You can slightly improve if you instead randomize every m periods and add a gap of size m at the beginning and end of the experiment horizon, when m>0.\n",
    "\n",
    "$T^* = {1,2m+1, 3m+1,...,(n-2)m+1}$\n",
    "\n",
    "$T^*$ are the optimal randomization points, $m$ is the order of the carryover effect and $n$ is an integer >=4 such that $T/m=n$. The length of the experiment has to be divisible by the carryover order and long enough to contain at least four blocks of size $m$. When there is no carryover $(m=0)$, the optimal design is just randomizing at every period, (ie $T^*$={1,1,...,1} to randomize every period) which would maximize treatment variance while keeping all the data."
   ]
  },
  {
   "cell_type": "code",
   "execution_count": null,
   "metadata": {},
   "outputs": [],
   "source": [
    "# optimal randomization points when m=2, (0(m)+1, 1(m+1), 2(2)+1, 3(2)+1, 4(2)+1, 5(2)+1)\n",
    "1, 5, 7, 9, 11, 13,15, 8*2 + 1 = 17             # [1,0,0,0,1,0,1,0,0,0]"
   ]
  },
  {
   "cell_type": "code",
   "execution_count": 67,
   "metadata": {},
   "outputs": [
    {
     "data": {
      "text/plain": [
       "array([1, 0, 0, 0, 1, 0, 1, 0, 1, 0, 0, 0])"
      ]
     },
     "execution_count": 67,
     "metadata": {},
     "output_type": "execute_result"
    }
   ],
   "source": [
    "m = 2       # carry over effect\n",
    "T =12       # time periods in experiment\n",
    "n = T/m     # n is used for the end of the randomization period\n",
    "\n",
    "np.isin(    # hashset timestamp element-wise membership checking, in optimal randomization times\n",
    "    np.arange(1, T+1),                                    # timestamps, total periods  \n",
    "                [1] + [i*m+1 for i in range(2, int(n)-1)] # optimal randomization points (range ends at n-2)\n",
    ")*1"
   ]
  },
  {
   "cell_type": "code",
   "execution_count": 81,
   "metadata": {},
   "outputs": [
    {
     "data": {
      "text/plain": [
       "array([ 1,  2,  3,  4,  5,  6,  7,  8,  9, 10, 11, 12])"
      ]
     },
     "execution_count": 81,
     "metadata": {},
     "output_type": "execute_result"
    }
   ],
   "source": [
    "np.arange(1, 12+1)"
   ]
  },
  {
   "cell_type": "code",
   "execution_count": 80,
   "metadata": {},
   "outputs": [
    {
     "data": {
      "text/plain": [
       "array([1, 0, 0, 0, 1, 0, 1, 0, 1, 0, 1, 0])"
      ]
     },
     "execution_count": 80,
     "metadata": {},
     "output_type": "execute_result"
    }
   ],
   "source": [
    "np.isin([1,2,3,4,5,6,7,8,9,10,11,12], [1, 5, 7, 9, 11, 13, 15, 17, 19, 21, 23, 25])*1 # randomization pts arr"
   ]
  },
  {
   "cell_type": "code",
   "execution_count": 78,
   "metadata": {},
   "outputs": [
    {
     "data": {
      "text/plain": [
       "[1, 5, 7, 9, 11, 13, 15, 17, 19, 21, 23, 25]"
      ]
     },
     "execution_count": 78,
     "metadata": {},
     "output_type": "execute_result"
    }
   ],
   "source": [
    "[1] + [i*m+1 for i in range(2, 13)] # lol supposed to end at n-2 (10) so range should go to n-1 (11) not 13"
   ]
  },
  {
   "cell_type": "code",
   "execution_count": 83,
   "metadata": {},
   "outputs": [
    {
     "data": {
      "text/plain": [
       "array([ True, False, False, False,  True, False,  True, False,  True,\n",
       "       False, False, False])"
      ]
     },
     "execution_count": 83,
     "metadata": {},
     "output_type": "execute_result"
    }
   ],
   "source": [
    "np.isin(\n",
    "    np.arange(1, T+1),\n",
    "    [1] + [i*m+1 for i in range(2, int(n)-1)]\n",
    ")"
   ]
  },
  {
   "cell_type": "code",
   "execution_count": 86,
   "metadata": {},
   "outputs": [
    {
     "data": {
      "text/plain": [
       "array([1, 0, 0, 0, 0, 0, 1, 0, 0, 1, 0, 0, 0, 0, 0])"
      ]
     },
     "execution_count": 86,
     "metadata": {},
     "output_type": "execute_result"
    }
   ],
   "source": [
    "m = 3\n",
    "T = 15\n",
    "n = T/m\n",
    "np.isin(\n",
    "    np.arange(1, T+1),\n",
    "    [1] + [i*m+1 for i in range(2, int(n)-1)] # check if current timestamp is in optimal randomization times\n",
    ")*1"
   ]
  },
  {
   "cell_type": "code",
   "execution_count": 87,
   "metadata": {},
   "outputs": [
    {
     "data": {
      "text/plain": [
       "array([ 1,  2,  3,  4,  5,  6,  7,  8,  9, 10, 11, 12, 13, 14, 15])"
      ]
     },
     "execution_count": 87,
     "metadata": {},
     "output_type": "execute_result"
    }
   ],
   "source": [
    "np.arange(1, T+1)"
   ]
  },
  {
   "cell_type": "code",
   "execution_count": 88,
   "metadata": {},
   "outputs": [
    {
     "data": {
      "text/plain": [
       "[1, 7, 10]"
      ]
     },
     "execution_count": 88,
     "metadata": {},
     "output_type": "execute_result"
    }
   ],
   "source": [
    "[1] + [i*m+1 for i in range(2, int(n)-1)]"
   ]
  },
  {
   "cell_type": "code",
   "execution_count": 89,
   "metadata": {},
   "outputs": [
    {
     "data": {
      "text/plain": [
       "14"
      ]
     },
     "execution_count": 89,
     "metadata": {},
     "output_type": "execute_result"
    }
   ],
   "source": [
    "6+1=7, 9+1=10, 12+1=14"
   ]
  },
  {
   "cell_type": "code",
   "execution_count": 94,
   "metadata": {},
   "outputs": [],
   "source": [
    "def gen_d(rand_points,p):\n",
    "    result = [np.random.binomial(1,p)]\n",
    "\n",
    "    for t in rand_points[1:]:\n",
    "        result.append(np.random.binomial(1,p)*t + (1-t)*result[-1])\n",
    "    return np.array(result)\n",
    "\n",
    "T = 120\n",
    "m = 2 \n",
    "\n",
    "def gen_exp(rand_points, T):\n",
    "    effect_params = [3,2,1]\n",
    "    p = 0.5\n",
    "\n",
    "    d = gen_d(rand_points, p=p)\n",
    "    y = y_given_d(d, [3,2,1], T)\n",
    "\n",
    "    return pd.DataFrame(dict(d=d, y=y, rand_points=rand_points))\n",
    "\n",
    "every_1 = np.array([True]*T)\n",
    "every_3 = np.array([True, False, False]*(T//3))\n",
    "n = T/m                                        # randomization sets \n",
    "opt = np.isin(\n",
    "    np.arange(1, T+1),\n",
    "    [1] + [i*m+1 for i in range(2, int(n)-1)]  # optimal randomization schedule, m+1 with gaps at start/end\n",
    ")\n",
    "\n",
    "np.random.seed(123)\n",
    "exps_every_1 = [gen_exp(every_1, T) for _ in range(1000)]\n",
    "exps_every_3 = [gen_exp(every_3, T) for _ in range(1000)]\n",
    "exps_opt = [gen_exp(opt, T) for _ in range(1000)]"
   ]
  },
  {
   "cell_type": "code",
   "execution_count": 99,
   "metadata": {},
   "outputs": [
    {
     "data": {
      "text/plain": [
       "<matplotlib.legend.Legend at 0x7fec3291c970>"
      ]
     },
     "execution_count": 99,
     "metadata": {},
     "output_type": "execute_result"
    },
    {
     "data": {
      "image/png": "[encoded data removed]",
      "text/plain": [
       "<Figure size 1200x600 with 3 Axes>"
      ]
     },
     "metadata": {},
     "output_type": "display_data"
    }
   ],
   "source": [
    "# comparison of treatment variance with different randomization intervals\n",
    "fig, axs = plt.subplots(3, 1, sharex=True, figsize=(12,6))\n",
    "ax1, ax2, ax3 = axs.ravel()\n",
    "\n",
    "taus_every_1_ipw = list(map(tau_ipw, exps_every_1))\n",
    "ax1.hist(taus_every_1_ipw, label=\"Every Period\", color=\"0.5\")\n",
    "ax1.set_title(f\"Var={np.round(np.var(taus_every_1_ipw),2)}\")\n",
    "ax1.legend()\n",
    "\n",
    "taus_every_3_ipw = list(map(tau_ipw, exps_every_3))\n",
    "ax2.hist(taus_every_3_ipw, label=\"Every 3 Periods\", color=\"0.5\")\n",
    "ax2.set_title(f\"Var={np.round(np.var(taus_every_3_ipw),2)}\")\n",
    "ax2.legend()\n",
    "\n",
    "taus_opt_ipw = list(map(tau_ipw, exps_opt))\n",
    "ax3.hist(taus_opt_ipw, label=\"Optimal Design\", color=\"0.5\")\n",
    "ax3.set_title(f\"Var={np.round(np.var(taus_opt_ipw),2)}\")\n",
    "ax3.legend()"
   ]
  },
  {
   "cell_type": "markdown",
   "metadata": {},
   "source": [
    "#### Robust Variance\n",
    "\n",
    "How you estimate the variance of the IPW estimator, depends on the design of your experiment. In the data below, the food delivery company ran a second experiment, with T=120, p=0.5 but now randomization points are based on the optimal design. To get the variance formula, first partition the data into $K=T/m$ blocks such that each block has size m. Then define the sum of the outcomes of a block k as $\\bar Y_k=\\Sigma Y_{km+1:(k+1)m^.}$. For instance, if $Y=[1,1,1,2,2,3]$ for $m=2,k=\\{1,2\\}$, $\\bar Y = [\\Sigma Y_{3:4}, \\Sigma_{5:6}]=[3,5]$, thus throwing away the first block. Having summed up the blocks, a conservative estimate to the variance is:\n",
    "\n",
    "$\\hat \\sigma (\\hat \\tau)=\\frac{1}{(T-m)^2}\\{8\\bar Y_1^2 + \\Sigma _{k=2}^{K-1}\\; 32 \\bar Y^2_k １(d_{km+1} = d_{(k+1)m+1}) + 8 \\bar Y _K ^2 \\}$\n",
    "\n",
    "First, the denominator is the square of the sample size. Since you discarded the first $m$ entries, you have to subtract $m$. The numerator is composed of three main terms. The first and last term take into account the gap left at the beginning and end of the optimal design. The middle term has the indicator function that evaluates to 1, whenever two consecutive blocks have the same treatment. Because of the gap at the beginning and end, this is sure to happen for the first and last term, so you don't need the indicator function there. To code this formula, you'll first need to make sure that T is divisible by $m$ by a factor greater or equal to 4. Then, use the hsplit() and vstack() functions to partition the array into blocks and pile up the blocks vertically respectively. Then we sum the columns of the piled-up array to get $\\bar Y$. For the indicator function, we do the same thing, but with the treatment vector. Due to the nature of the experiment design, the entire block of treatment will be 1 or 0, so just take the first column to know which treatment was assigned to that block. To know if two consecutive blocks have the same treatment, use the np.diff() function. This will discard yet another block.\n",
    "\n",
    "The variance obtained with this method, maybe yield a wider confidence interval than OLS and design that randomized every period, but that may be a small price to pay, to avoid making further model assumptions. Even if you follow the optimized design, you can still analyze it with OLS. Even though the optimal design is not meant to minimize the OLS variance, it often gives more precise estimates than randomizing at every period."
   ]
  },
  {
   "cell_type": "code",
   "execution_count": 100,
   "metadata": {},
   "outputs": [
    {
     "data": {
      "text/html": [
       "<div>\n",
       "<style scoped>\n",
       "    .dataframe tbody tr th:only-of-type {\n",
       "        vertical-align: middle;\n",
       "    }\n",
       "\n",
       "    .dataframe tbody tr th {\n",
       "        vertical-align: top;\n",
       "    }\n",
       "\n",
       "    .dataframe thead th {\n",
       "        text-align: right;\n",
       "    }\n",
       "</style>\n",
       "<table border=\"1\" class=\"dataframe\">\n",
       "  <thead>\n",
       "    <tr style=\"text-align: right;\">\n",
       "      <th></th>\n",
       "      <th>rand_points</th>\n",
       "      <th>d</th>\n",
       "      <th>delivery_time</th>\n",
       "    </tr>\n",
       "  </thead>\n",
       "  <tbody>\n",
       "    <tr>\n",
       "      <th>0</th>\n",
       "      <td>True</td>\n",
       "      <td>0</td>\n",
       "      <td>5.84</td>\n",
       "    </tr>\n",
       "    <tr>\n",
       "      <th>1</th>\n",
       "      <td>False</td>\n",
       "      <td>0</td>\n",
       "      <td>5.40</td>\n",
       "    </tr>\n",
       "    <tr>\n",
       "      <th>2</th>\n",
       "      <td>False</td>\n",
       "      <td>0</td>\n",
       "      <td>8.86</td>\n",
       "    </tr>\n",
       "    <tr>\n",
       "      <th>3</th>\n",
       "      <td>False</td>\n",
       "      <td>0</td>\n",
       "      <td>8.79</td>\n",
       "    </tr>\n",
       "    <tr>\n",
       "      <th>4</th>\n",
       "      <td>True</td>\n",
       "      <td>0</td>\n",
       "      <td>10.93</td>\n",
       "    </tr>\n",
       "    <tr>\n",
       "      <th>5</th>\n",
       "      <td>False</td>\n",
       "      <td>0</td>\n",
       "      <td>7.02</td>\n",
       "    </tr>\n",
       "  </tbody>\n",
       "</table>\n",
       "</div>"
      ],
      "text/plain": [
       "   rand_points  d  delivery_time\n",
       "0         True  0           5.84\n",
       "1        False  0           5.40\n",
       "2        False  0           8.86\n",
       "3        False  0           8.79\n",
       "4         True  0          10.93\n",
       "5        False  0           7.02"
      ]
     },
     "execution_count": 100,
     "metadata": {},
     "output_type": "execute_result"
    }
   ],
   "source": [
    "df_opt = pd.read_csv(\"data/sb_exp_opt.csv\")\n",
    "df_opt.head(6)"
   ]
  },
  {
   "cell_type": "code",
   "execution_count": 135,
   "metadata": {},
   "outputs": [
    {
     "data": {
      "text/plain": [
       "-9.921016949152545"
      ]
     },
     "execution_count": 135,
     "metadata": {},
     "output_type": "execute_result"
    }
   ],
   "source": [
    "tau_hat = ipw_switchback(df_opt[\"d\"],\n",
    "                         df_opt[\"delivery_time\"],\n",
    "                         df_opt[\"rand_points\"],\n",
    "                         m=2, p=0.5)\n",
    "tau_hat"
   ]
  },
  {
   "cell_type": "code",
   "execution_count": 136,
   "metadata": {},
   "outputs": [
    {
     "data": {
      "text/plain": [
       "array([[1, 1],\n",
       "       [1, 2],\n",
       "       [2, 3]])"
      ]
     },
     "execution_count": 136,
     "metadata": {},
     "output_type": "execute_result"
    }
   ],
   "source": [
    "np.vstack(np.hsplit(np.array([1,1,1,2,2,3]),3)) # horizontally split into 3 columns then stack vertically"
   ]
  },
  {
   "cell_type": "code",
   "execution_count": 137,
   "metadata": {},
   "outputs": [
    {
     "data": {
      "text/plain": [
       "array([False,  True])"
      ]
     },
     "execution_count": 137,
     "metadata": {},
     "output_type": "execute_result"
    }
   ],
   "source": [
    "# check that two consecutive blocks have the same treatment\n",
    "np.diff(np.vstack(np.hsplit(np.array([1,1,0,0,0,0]),3))[:,0]) ==0"
   ]
  },
  {
   "cell_type": "code",
   "execution_count": 143,
   "metadata": {},
   "outputs": [],
   "source": [
    "# entire variance function\n",
    "def var_opt_design(d_opt, y_opt, T, m):\n",
    "    assert ((T//m == T/m) \n",
    "            & (T/m >= 4)),  \"T must be divisible by m and T/m >=4\" # print message if assert fails\n",
    "\n",
    "    # discard 1st block\n",
    "    y_m_blocks = np.vstack(np.hsplit(y_opt, int(T/m))).sum(axis=1)[1:]\n",
    "\n",
    "    # take 1st column\n",
    "    d_m_blocks = np.vstack(np.split(d_opt, int(T/m))[1:])[:,0]\n",
    "\n",
    "    return (\n",
    "        8*y_m_blocks[0]**2\n",
    "        + (32*y_m_blocks[1:-1]**2*(np.diff(d_m_blocks)==0)[:-1]).sum()\n",
    "        + 8*y_m_blocks[-1]**2\n",
    "    ) / (T-m)**2"
   ]
  },
  {
   "cell_type": "code",
   "execution_count": 144,
   "metadata": {},
   "outputs": [
    {
     "data": {
      "text/plain": [
       "[-18.490627362048095, -1.351406536256997]"
      ]
     },
     "execution_count": 144,
     "metadata": {},
     "output_type": "execute_result"
    }
   ],
   "source": [
    "var_hat = var_opt_design(df_opt[\"d\"],\n",
    "                         df_opt[\"delivery_time\"],\n",
    "                        T=120, m=2)\n",
    "se_hat = np.sqrt(var_hat)\n",
    "[tau_hat -1.96*se_hat, tau_hat + 1.96*se_hat]"
   ]
  },
  {
   "cell_type": "code",
   "execution_count": null,
   "metadata": {},
   "outputs": [],
   "source": []
  }
 ],
 "metadata": {
  "kernelspec": {
   "display_name": "base",
   "language": "python",
   "name": "python3"
  },
  "language_info": {
   "codemirror_mode": {
    "name": "ipython",
    "version": 3
   },
   "file_extension": ".py",
   "mimetype": "text/x-python",
   "name": "python",
   "nbconvert_exporter": "python",
   "pygments_lexer": "ipython3",
   "version": "3.8.8"
  }
 },
 "nbformat": 4,
 "nbformat_minor": 2
}
