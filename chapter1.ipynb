{
 "cells": [
  {
   "cell_type": "markdown",
   "metadata": {},
   "source": [
    "#### Introduction to Causal Inferrence\n",
    "\n",
    "Association is not causation, we know that. And yet sometimes, association is causation. Causal inference is the science of inferring causation from association and understanding when and why they differ. A common use of causal inference is understanding the impact of interventions. \n",
    "\n",
    "The fundamental problem of causal inference is that you can never observe the same individual unit with and without treatment. The individual treatment effect, (which we can't really observe) is defined based on potential outcomes. \n",
    "\n",
    "$\\tau_i = Y_{1i} -  Y_{0i}$ \n",
    "\n",
    "The observed outcome ($Y_i$) equals the potential treatment outcome ($Y_{1i}$) if the unit received the treatment ($T_i=1$); otherwise it equals the potential control outcome ($Y_{0i}$) if the unit did not receive the treatment ($T_i=0$). \n",
    "\n",
    "The do(·) operator simply gives rise to the conterfactual or potential outcomes, $Y_{ti}$.\n",
    "\n",
    "$Y_{ti} = Y_i|do(T_i=t)$\n",
    "\n",
    "This can be read as the outcome of unit $i$ would be $Y$ if its treatment were set to $t$.\n",
    "\n",
    "The observed outcome can be expressed in termes of the potential outcomes. \n",
    "\n",
    "$Y_i = T_iY_{1i} + (1-T_i)Y_{0i}=Y_{0i}+ T_i(Y_{1i}-Y_{0i})$\n",
    "\n",
    "For a business problem investigating the effect of marketing sales on amount sold on a group of businesses: \n",
    "\n",
    "$\\tau_i = AmountSold_{i}|do(isOnSales=1) - AmountSold_{i}|do(isOnSales=0)$ \n",
    "\n",
    "$\\tau_i = AmountSold_{1i} - AmountSold_{0i}\n",
    "\n",
    "Even though we cant observe the individual treatment effect, we can learn other causal quantities from data. One is the average treatment effect (ATE):\n",
    "\n",
    "$ATE  = E[\\tau_i]$ or\n",
    "\n",
    "$ATE = E[Y_{1i}-Y_{0i}]$  where Y is the outcome variable such as AmountSold \n",
    "\n",
    "$ATE = E[AmountSold_{1i} - AmountSold_{0i}]]$ \n",
    "\n",
    "To estimate the ATE from data, replace the expectation with sample averages.\n",
    "\n",
    "$\\frac{1}{N}\\Sigma_{i=0}^N\\tau_i$ or \n",
    "\n",
    "$\\frac{1}{N}\\Sigma_{i=0}^N(Y_{1i}-Y_{0i})$\n",
    "\n",
    "The average treatment effect on the treated (ATT) is the impact of the treatment on the units that go the treatment. Note that technically, since you are conditioning on the treated, $Y_{0i}$ is always unobserved.\n",
    "\n",
    "$ATT=E[Y_{1i}-Y_{0i}|T=1]$\n",
    "\n",
    "$ATT=E[AmountSold_{1i}-AmountSold_{0i}|IsOnSales=1]$\n",
    "\n",
    "The conditional average treatement effects (CATE)  is the effect in a group defined by the variables X. Conditional average treatment effect allows to know which type of unit, i, responds better to an intervention.\n",
    "\n",
    "$CATE=E[Y_{1i}-Y_{0i}|X=x]$\n",
    "\n",
    "$CATE=E[AmountSold_{1i}-AmountSold_{0i}|weeksToXmas=0]$\n"
   ]
  },
  {
   "cell_type": "code",
   "execution_count": 134,
   "metadata": {},
   "outputs": [],
   "source": [
    "import pandas as pd \n",
    "import numpy as np \n",
    "from scipy.special import expit \n",
    "import seaborn as sns \n",
    "from matplotlib import pyplot as plt \n",
    "from cycler import cycler               # object for cycling over plotting style kwargs"
   ]
  },
  {
   "cell_type": "code",
   "execution_count": 135,
   "metadata": {},
   "outputs": [],
   "source": [
    "# create cycling objects\n",
    "default_cycler = (cycler(color=['0.3', '0.5', '0.7', '0.5']) + \n",
    "                  cycler(linestyle=['-', '--', ':', '-.']) + \n",
    "                  cycler(marker=['o', 'v', 'd', 'p']))\n",
    "\n",
    "color=['0.3', '0.5', '0.7', '0.5']\n",
    "linestyle=['-', '--', ':', '-.']\n",
    "marker=['o', 'v', 'd', 'p']\n",
    "\n",
    "plt.rc('axes', prop_cycle=default_cycler)\n",
    "plt.rc('font', size=20)"
   ]
  },
  {
   "cell_type": "code",
   "execution_count": 136,
   "metadata": {},
   "outputs": [
    {
     "data": {
      "text/html": [
       "<div>\n",
       "<style scoped>\n",
       "    .dataframe tbody tr th:only-of-type {\n",
       "        vertical-align: middle;\n",
       "    }\n",
       "\n",
       "    .dataframe tbody tr th {\n",
       "        vertical-align: top;\n",
       "    }\n",
       "\n",
       "    .dataframe thead th {\n",
       "        text-align: right;\n",
       "    }\n",
       "</style>\n",
       "<table border=\"1\" class=\"dataframe\">\n",
       "  <thead>\n",
       "    <tr style=\"text-align: right;\">\n",
       "      <th></th>\n",
       "      <th>store</th>\n",
       "      <th>weeks_to_xmas</th>\n",
       "      <th>avg_week_sales</th>\n",
       "      <th>is_on_sale</th>\n",
       "      <th>weekly_amount_sold</th>\n",
       "    </tr>\n",
       "  </thead>\n",
       "  <tbody>\n",
       "    <tr>\n",
       "      <th>0</th>\n",
       "      <td>1</td>\n",
       "      <td>3</td>\n",
       "      <td>12.98</td>\n",
       "      <td>1</td>\n",
       "      <td>219.60</td>\n",
       "    </tr>\n",
       "    <tr>\n",
       "      <th>1</th>\n",
       "      <td>1</td>\n",
       "      <td>2</td>\n",
       "      <td>12.98</td>\n",
       "      <td>1</td>\n",
       "      <td>184.70</td>\n",
       "    </tr>\n",
       "    <tr>\n",
       "      <th>2</th>\n",
       "      <td>1</td>\n",
       "      <td>1</td>\n",
       "      <td>12.98</td>\n",
       "      <td>1</td>\n",
       "      <td>145.75</td>\n",
       "    </tr>\n",
       "    <tr>\n",
       "      <th>3</th>\n",
       "      <td>1</td>\n",
       "      <td>0</td>\n",
       "      <td>12.98</td>\n",
       "      <td>0</td>\n",
       "      <td>102.45</td>\n",
       "    </tr>\n",
       "    <tr>\n",
       "      <th>4</th>\n",
       "      <td>2</td>\n",
       "      <td>3</td>\n",
       "      <td>19.92</td>\n",
       "      <td>0</td>\n",
       "      <td>103.22</td>\n",
       "    </tr>\n",
       "  </tbody>\n",
       "</table>\n",
       "</div>"
      ],
      "text/plain": [
       "   store  weeks_to_xmas  avg_week_sales  is_on_sale  weekly_amount_sold\n",
       "0      1              3           12.98           1              219.60\n",
       "1      1              2           12.98           1              184.70\n",
       "2      1              1           12.98           1              145.75\n",
       "3      1              0           12.98           0              102.45\n",
       "4      2              3           19.92           0              103.22"
      ]
     },
     "execution_count": 136,
     "metadata": {},
     "output_type": "execute_result"
    }
   ],
   "source": [
    "data = pd.read_csv(\"./data/xmas_sales.csv\")\n",
    "data.head()"
   ]
  },
  {
   "cell_type": "code",
   "execution_count": 137,
   "metadata": {},
   "outputs": [
    {
     "data": {
      "text/plain": [
       "(2000, 5)"
      ]
     },
     "execution_count": 137,
     "metadata": {},
     "output_type": "execute_result"
    }
   ],
   "source": [
    "data.shape"
   ]
  },
  {
   "cell_type": "code",
   "execution_count": 138,
   "metadata": {},
   "outputs": [
    {
     "data": {
      "text/plain": [
       "store                 category\n",
       "weeks_to_xmas         category\n",
       "avg_week_sales         float64\n",
       "is_on_sale            category\n",
       "weekly_amount_sold     float64\n",
       "dtype: object"
      ]
     },
     "execution_count": 138,
     "metadata": {},
     "output_type": "execute_result"
    }
   ],
   "source": [
    "data2.dtypes"
   ]
  },
  {
   "cell_type": "code",
   "execution_count": 139,
   "metadata": {},
   "outputs": [
    {
     "data": {
      "text/plain": [
       "store                 category\n",
       "weeks_to_xmas         category\n",
       "avg_week_sales         float64\n",
       "is_on_sale            category\n",
       "weekly_amount_sold     float64\n",
       "dtype: object"
      ]
     },
     "execution_count": 139,
     "metadata": {},
     "output_type": "execute_result"
    }
   ],
   "source": [
    "data2 = data.copy()\n",
    "data2.store = data2.store.astype('category')\n",
    "data2.weeks_to_xmas = data2.weeks_to_xmas.astype('category')\n",
    "data2.is_on_sale = data2.is_on_sale.astype('category')\n",
    "data2.dtypes"
   ]
  },
  {
   "cell_type": "code",
   "execution_count": 140,
   "metadata": {},
   "outputs": [
    {
     "data": {
      "text/html": [
       "<div>\n",
       "<style scoped>\n",
       "    .dataframe tbody tr th:only-of-type {\n",
       "        vertical-align: middle;\n",
       "    }\n",
       "\n",
       "    .dataframe tbody tr th {\n",
       "        vertical-align: top;\n",
       "    }\n",
       "\n",
       "    .dataframe thead th {\n",
       "        text-align: right;\n",
       "    }\n",
       "</style>\n",
       "<table border=\"1\" class=\"dataframe\">\n",
       "  <thead>\n",
       "    <tr style=\"text-align: right;\">\n",
       "      <th></th>\n",
       "      <th>avg_week_sales</th>\n",
       "      <th>weekly_amount_sold</th>\n",
       "    </tr>\n",
       "  </thead>\n",
       "  <tbody>\n",
       "    <tr>\n",
       "      <th>count</th>\n",
       "      <td>2000.000000</td>\n",
       "      <td>2000.000000</td>\n",
       "    </tr>\n",
       "    <tr>\n",
       "      <th>mean</th>\n",
       "      <td>20.214360</td>\n",
       "      <td>102.992225</td>\n",
       "    </tr>\n",
       "    <tr>\n",
       "      <th>std</th>\n",
       "      <td>4.632169</td>\n",
       "      <td>75.278527</td>\n",
       "    </tr>\n",
       "    <tr>\n",
       "      <th>min</th>\n",
       "      <td>9.700000</td>\n",
       "      <td>0.000000</td>\n",
       "    </tr>\n",
       "    <tr>\n",
       "      <th>25%</th>\n",
       "      <td>17.140000</td>\n",
       "      <td>41.127500</td>\n",
       "    </tr>\n",
       "    <tr>\n",
       "      <th>50%</th>\n",
       "      <td>19.815000</td>\n",
       "      <td>97.825000</td>\n",
       "    </tr>\n",
       "    <tr>\n",
       "      <th>75%</th>\n",
       "      <td>22.910000</td>\n",
       "      <td>155.130000</td>\n",
       "    </tr>\n",
       "    <tr>\n",
       "      <th>max</th>\n",
       "      <td>42.960000</td>\n",
       "      <td>423.010000</td>\n",
       "    </tr>\n",
       "  </tbody>\n",
       "</table>\n",
       "</div>"
      ],
      "text/plain": [
       "       avg_week_sales  weekly_amount_sold\n",
       "count     2000.000000         2000.000000\n",
       "mean        20.214360          102.992225\n",
       "std          4.632169           75.278527\n",
       "min          9.700000            0.000000\n",
       "25%         17.140000           41.127500\n",
       "50%         19.815000           97.825000\n",
       "75%         22.910000          155.130000\n",
       "max         42.960000          423.010000"
      ]
     },
     "execution_count": 140,
     "metadata": {},
     "output_type": "execute_result"
    }
   ],
   "source": [
    "data2.describe()"
   ]
  },
  {
   "cell_type": "code",
   "execution_count": 141,
   "metadata": {},
   "outputs": [
    {
     "data": {
      "text/html": [
       "<div>\n",
       "<style scoped>\n",
       "    .dataframe tbody tr th:only-of-type {\n",
       "        vertical-align: middle;\n",
       "    }\n",
       "\n",
       "    .dataframe tbody tr th {\n",
       "        vertical-align: top;\n",
       "    }\n",
       "\n",
       "    .dataframe thead th {\n",
       "        text-align: right;\n",
       "    }\n",
       "</style>\n",
       "<table border=\"1\" class=\"dataframe\">\n",
       "  <thead>\n",
       "    <tr style=\"text-align: right;\">\n",
       "      <th></th>\n",
       "      <th>store</th>\n",
       "      <th>weeks_to_xmas</th>\n",
       "      <th>is_on_sale</th>\n",
       "    </tr>\n",
       "  </thead>\n",
       "  <tbody>\n",
       "    <tr>\n",
       "      <th>count</th>\n",
       "      <td>2000</td>\n",
       "      <td>2000</td>\n",
       "      <td>2000</td>\n",
       "    </tr>\n",
       "    <tr>\n",
       "      <th>unique</th>\n",
       "      <td>500</td>\n",
       "      <td>4</td>\n",
       "      <td>2</td>\n",
       "    </tr>\n",
       "    <tr>\n",
       "      <th>top</th>\n",
       "      <td>1</td>\n",
       "      <td>0</td>\n",
       "      <td>1</td>\n",
       "    </tr>\n",
       "    <tr>\n",
       "      <th>freq</th>\n",
       "      <td>4</td>\n",
       "      <td>500</td>\n",
       "      <td>1024</td>\n",
       "    </tr>\n",
       "  </tbody>\n",
       "</table>\n",
       "</div>"
      ],
      "text/plain": [
       "        store  weeks_to_xmas  is_on_sale\n",
       "count    2000           2000        2000\n",
       "unique    500              4           2\n",
       "top         1              0           1\n",
       "freq        4            500        1024"
      ]
     },
     "execution_count": 141,
     "metadata": {},
     "output_type": "execute_result"
    }
   ],
   "source": [
    "data2.describe(include='category')"
   ]
  },
  {
   "cell_type": "code",
   "execution_count": 142,
   "metadata": {},
   "outputs": [
    {
     "data": {
      "text/plain": [
       "0.512"
      ]
     },
     "execution_count": 142,
     "metadata": {},
     "output_type": "execute_result"
    }
   ],
   "source": [
    "# check if sale vs no-sale data is balanced\n",
    "sale_mask = data2['is_on_sale'] == 1\n",
    "sale_mask.mean()"
   ]
  },
  {
   "cell_type": "code",
   "execution_count": 143,
   "metadata": {},
   "outputs": [
    {
     "data": {
      "image/png": "[encoded data removed]",
      "text/plain": [
       "<Figure size 1000x500 with 1 Axes>"
      ]
     },
     "metadata": {},
     "output_type": "display_data"
    }
   ],
   "source": [
    "# Plot the outcome by the treatment\n",
    "fig, ax = plt.subplots(1,1, figsize=(10,5))\n",
    "sns.boxplot(y='weekly_amount_sold', x='is_on_sale', data=data, ax=ax) # boxplot of target vs treatment\n",
    "ax.set_xlabel('is_on_sale')\n",
    "ax.set_ylabel('weekly_amount_sold')\n",
    "ax.tick_params(axis='both', which='major')"
   ]
  },
  {
   "cell_type": "code",
   "execution_count": 144,
   "metadata": {},
   "outputs": [
    {
     "data": {
      "text/html": [
       "<div>\n",
       "<style scoped>\n",
       "    .dataframe tbody tr th:only-of-type {\n",
       "        vertical-align: middle;\n",
       "    }\n",
       "\n",
       "    .dataframe tbody tr th {\n",
       "        vertical-align: top;\n",
       "    }\n",
       "\n",
       "    .dataframe thead th {\n",
       "        text-align: right;\n",
       "    }\n",
       "</style>\n",
       "<table border=\"1\" class=\"dataframe\">\n",
       "  <thead>\n",
       "    <tr style=\"text-align: right;\">\n",
       "      <th></th>\n",
       "      <th></th>\n",
       "      <th>weekly_amount_sold</th>\n",
       "    </tr>\n",
       "    <tr>\n",
       "      <th>is_on_sale</th>\n",
       "      <th>store</th>\n",
       "      <th></th>\n",
       "    </tr>\n",
       "  </thead>\n",
       "  <tbody>\n",
       "    <tr>\n",
       "      <th rowspan=\"5\" valign=\"top\">0</th>\n",
       "      <th>1</th>\n",
       "      <td>102.450000</td>\n",
       "    </tr>\n",
       "    <tr>\n",
       "      <th>2</th>\n",
       "      <td>42.697500</td>\n",
       "    </tr>\n",
       "    <tr>\n",
       "      <th>3</th>\n",
       "      <td>44.085000</td>\n",
       "    </tr>\n",
       "    <tr>\n",
       "      <th>4</th>\n",
       "      <td>26.850000</td>\n",
       "    </tr>\n",
       "    <tr>\n",
       "      <th>5</th>\n",
       "      <td>106.702500</td>\n",
       "    </tr>\n",
       "    <tr>\n",
       "      <th>...</th>\n",
       "      <th>...</th>\n",
       "      <td>...</td>\n",
       "    </tr>\n",
       "    <tr>\n",
       "      <th rowspan=\"5\" valign=\"top\">1</th>\n",
       "      <th>496</th>\n",
       "      <td>130.200000</td>\n",
       "    </tr>\n",
       "    <tr>\n",
       "      <th>497</th>\n",
       "      <td>135.016667</td>\n",
       "    </tr>\n",
       "    <tr>\n",
       "      <th>498</th>\n",
       "      <td>68.010000</td>\n",
       "    </tr>\n",
       "    <tr>\n",
       "      <th>499</th>\n",
       "      <td>15.600000</td>\n",
       "    </tr>\n",
       "    <tr>\n",
       "      <th>500</th>\n",
       "      <td>111.160000</td>\n",
       "    </tr>\n",
       "  </tbody>\n",
       "</table>\n",
       "<p>906 rows × 1 columns</p>\n",
       "</div>"
      ],
      "text/plain": [
       "                  weekly_amount_sold\n",
       "is_on_sale store                    \n",
       "0          1              102.450000\n",
       "           2               42.697500\n",
       "           3               44.085000\n",
       "           4               26.850000\n",
       "           5              106.702500\n",
       "...                              ...\n",
       "1          496            130.200000\n",
       "           497            135.016667\n",
       "           498             68.010000\n",
       "           499             15.600000\n",
       "           500            111.160000\n",
       "\n",
       "[906 rows x 1 columns]"
      ]
     },
     "execution_count": 144,
     "metadata": {},
     "output_type": "execute_result"
    }
   ],
   "source": [
    "data.groupby(by=['is_on_sale', 'store']).agg({'weekly_amount_sold': 'mean'})"
   ]
  },
  {
   "cell_type": "code",
   "execution_count": 145,
   "metadata": {},
   "outputs": [
    {
     "data": {
      "text/html": [
       "<div>\n",
       "<style scoped>\n",
       "    .dataframe tbody tr th:only-of-type {\n",
       "        vertical-align: middle;\n",
       "    }\n",
       "\n",
       "    .dataframe tbody tr th {\n",
       "        vertical-align: top;\n",
       "    }\n",
       "\n",
       "    .dataframe thead th {\n",
       "        text-align: right;\n",
       "    }\n",
       "</style>\n",
       "<table border=\"1\" class=\"dataframe\">\n",
       "  <thead>\n",
       "    <tr style=\"text-align: right;\">\n",
       "      <th>is_on_sale</th>\n",
       "      <th>0</th>\n",
       "      <th>1</th>\n",
       "    </tr>\n",
       "    <tr>\n",
       "      <th>store</th>\n",
       "      <th></th>\n",
       "      <th></th>\n",
       "    </tr>\n",
       "  </thead>\n",
       "  <tbody>\n",
       "    <tr>\n",
       "      <th>1</th>\n",
       "      <td>102.4500</td>\n",
       "      <td>183.350</td>\n",
       "    </tr>\n",
       "    <tr>\n",
       "      <th>2</th>\n",
       "      <td>42.6975</td>\n",
       "      <td>NaN</td>\n",
       "    </tr>\n",
       "    <tr>\n",
       "      <th>3</th>\n",
       "      <td>44.0850</td>\n",
       "      <td>NaN</td>\n",
       "    </tr>\n",
       "    <tr>\n",
       "      <th>4</th>\n",
       "      <td>26.8500</td>\n",
       "      <td>87.665</td>\n",
       "    </tr>\n",
       "    <tr>\n",
       "      <th>5</th>\n",
       "      <td>106.7025</td>\n",
       "      <td>NaN</td>\n",
       "    </tr>\n",
       "  </tbody>\n",
       "</table>\n",
       "</div>"
      ],
      "text/plain": [
       "is_on_sale         0        1\n",
       "store                        \n",
       "1           102.4500  183.350\n",
       "2            42.6975      NaN\n",
       "3            44.0850      NaN\n",
       "4            26.8500   87.665\n",
       "5           106.7025      NaN"
      ]
     },
     "execution_count": 145,
     "metadata": {},
     "output_type": "execute_result"
    }
   ],
   "source": [
    "a = data.pivot_table(values='weekly_amount_sold', aggfunc='mean', index='store', columns='is_on_sale')\n",
    "a.head()"
   ]
  },
  {
   "cell_type": "code",
   "execution_count": 146,
   "metadata": {},
   "outputs": [
    {
     "data": {
      "text/html": [
       "<div>\n",
       "<style scoped>\n",
       "    .dataframe tbody tr th:only-of-type {\n",
       "        vertical-align: middle;\n",
       "    }\n",
       "\n",
       "    .dataframe tbody tr th {\n",
       "        vertical-align: top;\n",
       "    }\n",
       "\n",
       "    .dataframe thead th {\n",
       "        text-align: right;\n",
       "    }\n",
       "</style>\n",
       "<table border=\"1\" class=\"dataframe\">\n",
       "  <thead>\n",
       "    <tr style=\"text-align: right;\">\n",
       "      <th>is_on_sale</th>\n",
       "      <th>0</th>\n",
       "      <th>1</th>\n",
       "    </tr>\n",
       "    <tr>\n",
       "      <th>store</th>\n",
       "      <th></th>\n",
       "      <th></th>\n",
       "    </tr>\n",
       "  </thead>\n",
       "  <tbody>\n",
       "    <tr>\n",
       "      <th>496</th>\n",
       "      <td>NaN</td>\n",
       "      <td>130.200000</td>\n",
       "    </tr>\n",
       "    <tr>\n",
       "      <th>497</th>\n",
       "      <td>34.54</td>\n",
       "      <td>135.016667</td>\n",
       "    </tr>\n",
       "    <tr>\n",
       "      <th>498</th>\n",
       "      <td>0.00</td>\n",
       "      <td>68.010000</td>\n",
       "    </tr>\n",
       "    <tr>\n",
       "      <th>499</th>\n",
       "      <td>50.17</td>\n",
       "      <td>15.600000</td>\n",
       "    </tr>\n",
       "    <tr>\n",
       "      <th>500</th>\n",
       "      <td>83.99</td>\n",
       "      <td>111.160000</td>\n",
       "    </tr>\n",
       "  </tbody>\n",
       "</table>\n",
       "</div>"
      ],
      "text/plain": [
       "is_on_sale      0           1\n",
       "store                        \n",
       "496           NaN  130.200000\n",
       "497         34.54  135.016667\n",
       "498          0.00   68.010000\n",
       "499         50.17   15.600000\n",
       "500         83.99  111.160000"
      ]
     },
     "execution_count": 146,
     "metadata": {},
     "output_type": "execute_result"
    }
   ],
   "source": [
    "a.tail()"
   ]
  },
  {
   "cell_type": "markdown",
   "metadata": {},
   "source": [
    "#### Causal Quantities\n",
    "\n",
    "Imagine an alternative universe for potential outcomes, one where each potential outcome is realized, to collect data on six businesses, three of which were having sales and three of which weren't (basically we know or 'saw' the potential outcomes if a treatment happened and if it didnt happen, then woke up and chose which potential outcome we wanted as our reality).\n",
    "\n",
    "i is the unit identifier, y is the observed outcome, y0 and y1 are potential outcomes under the control and treatment, respectively, t is the treatment indicator, x is the covariate that weeks till Christmas. Note that being on sale is the treatment and amount sold is the outcome. In this world of alternative universes, we can define the individual treatment effect."
   ]
  },
  {
   "cell_type": "code",
   "execution_count": 147,
   "metadata": {},
   "outputs": [
    {
     "data": {
      "text/html": [
       "<div>\n",
       "<style scoped>\n",
       "    .dataframe tbody tr th:only-of-type {\n",
       "        vertical-align: middle;\n",
       "    }\n",
       "\n",
       "    .dataframe tbody tr th {\n",
       "        vertical-align: top;\n",
       "    }\n",
       "\n",
       "    .dataframe thead th {\n",
       "        text-align: right;\n",
       "    }\n",
       "</style>\n",
       "<table border=\"1\" class=\"dataframe\">\n",
       "  <thead>\n",
       "    <tr style=\"text-align: right;\">\n",
       "      <th></th>\n",
       "      <th>i</th>\n",
       "      <th>y0</th>\n",
       "      <th>y1</th>\n",
       "      <th>t</th>\n",
       "      <th>x</th>\n",
       "      <th>y</th>\n",
       "      <th>te</th>\n",
       "    </tr>\n",
       "  </thead>\n",
       "  <tbody>\n",
       "    <tr>\n",
       "      <th>0</th>\n",
       "      <td>1</td>\n",
       "      <td>200</td>\n",
       "      <td>220</td>\n",
       "      <td>0</td>\n",
       "      <td>0</td>\n",
       "      <td>200</td>\n",
       "      <td>20</td>\n",
       "    </tr>\n",
       "    <tr>\n",
       "      <th>1</th>\n",
       "      <td>2</td>\n",
       "      <td>120</td>\n",
       "      <td>140</td>\n",
       "      <td>0</td>\n",
       "      <td>0</td>\n",
       "      <td>120</td>\n",
       "      <td>20</td>\n",
       "    </tr>\n",
       "    <tr>\n",
       "      <th>2</th>\n",
       "      <td>3</td>\n",
       "      <td>300</td>\n",
       "      <td>400</td>\n",
       "      <td>0</td>\n",
       "      <td>1</td>\n",
       "      <td>300</td>\n",
       "      <td>100</td>\n",
       "    </tr>\n",
       "    <tr>\n",
       "      <th>3</th>\n",
       "      <td>4</td>\n",
       "      <td>450</td>\n",
       "      <td>500</td>\n",
       "      <td>1</td>\n",
       "      <td>0</td>\n",
       "      <td>500</td>\n",
       "      <td>50</td>\n",
       "    </tr>\n",
       "    <tr>\n",
       "      <th>4</th>\n",
       "      <td>5</td>\n",
       "      <td>600</td>\n",
       "      <td>600</td>\n",
       "      <td>1</td>\n",
       "      <td>0</td>\n",
       "      <td>600</td>\n",
       "      <td>0</td>\n",
       "    </tr>\n",
       "    <tr>\n",
       "      <th>5</th>\n",
       "      <td>6</td>\n",
       "      <td>600</td>\n",
       "      <td>800</td>\n",
       "      <td>1</td>\n",
       "      <td>1</td>\n",
       "      <td>800</td>\n",
       "      <td>200</td>\n",
       "    </tr>\n",
       "  </tbody>\n",
       "</table>\n",
       "</div>"
      ],
      "text/plain": [
       "   i   y0   y1  t  x    y   te\n",
       "0  1  200  220  0  0  200   20\n",
       "1  2  120  140  0  0  120   20\n",
       "2  3  300  400  0  1  300  100\n",
       "3  4  450  500  1  0  500   50\n",
       "4  5  600  600  1  0  600    0\n",
       "5  6  600  800  1  1  800  200"
      ]
     },
     "execution_count": 147,
     "metadata": {},
     "output_type": "execute_result"
    }
   ],
   "source": [
    "\n",
    "a = pd.DataFrame(dict(\n",
    "    i= [1,2,3,4,5,6],                   # unit identifier (stores)\n",
    "    y0=[200,120,300, 450,600,600],      # potential outcome if not treated\n",
    "    y1=[220,140,400, 500,600,800],      # potential outcome if treated\n",
    "    t= [0,0,0,1,1,1],                   # boolean indicating actual treatment option\n",
    "    x= [0,0,1,0,0,1],                   # covariate (feature)\n",
    ")).assign(\n",
    "    y = lambda d: (d[\"t\"]*d[\"y1\"] + (1-d[\"t\"])*d[\"y0\"]).astype(int), # observed outcome from potential outcomes\n",
    "    te=lambda d: d[\"y1\"] - d[\"y0\"]      # individual treatment effect\n",
    ")\n",
    "a"
   ]
  },
  {
   "cell_type": "code",
   "execution_count": 158,
   "metadata": {},
   "outputs": [
    {
     "data": {
      "text/plain": [
       "65.0"
      ]
     },
     "execution_count": 158,
     "metadata": {},
     "output_type": "execute_result"
    }
   ],
   "source": [
    "# average treatment effect using E[Y_1] - E[Y_0] the expected value for the treated and control\n",
    "a['y1'].mean() - a['y0'].mean()"
   ]
  },
  {
   "cell_type": "code",
   "execution_count": 149,
   "metadata": {},
   "outputs": [
    {
     "data": {
      "text/plain": [
       "65.0"
      ]
     },
     "execution_count": 149,
     "metadata": {},
     "output_type": "execute_result"
    }
   ],
   "source": [
    "# average treatment effect using individual treatment effect\n",
    "a['te'].mean()"
   ]
  },
  {
   "cell_type": "code",
   "execution_count": 150,
   "metadata": {},
   "outputs": [
    {
     "data": {
      "text/plain": [
       "83.33333333333333"
      ]
     },
     "execution_count": 150,
     "metadata": {},
     "output_type": "execute_result"
    }
   ],
   "source": [
    "# average treatment effect of the treated\n",
    "a[a['t'] == 1]['te'].mean()"
   ]
  },
  {
   "cell_type": "code",
   "execution_count": 151,
   "metadata": {},
   "outputs": [
    {
     "data": {
      "text/plain": [
       "46.666666666666664"
      ]
     },
     "execution_count": 151,
     "metadata": {},
     "output_type": "execute_result"
    }
   ],
   "source": [
    "# average treatment effect of the untreated / control\n",
    "a[a['t'] == 0]['te'].mean() "
   ]
  },
  {
   "cell_type": "code",
   "execution_count": 152,
   "metadata": {},
   "outputs": [
    {
     "data": {
      "text/plain": [
       "150.0"
      ]
     },
     "execution_count": 152,
     "metadata": {},
     "output_type": "execute_result"
    }
   ],
   "source": [
    "# conditioned average treatment effect (CATE), condition being its one week to Christmas\n",
    "a[a['x'] == 1]['te'].mean()"
   ]
  },
  {
   "cell_type": "code",
   "execution_count": 153,
   "metadata": {},
   "outputs": [
    {
     "data": {
      "text/plain": [
       "22.5"
      ]
     },
     "execution_count": 153,
     "metadata": {},
     "output_type": "execute_result"
    }
   ],
   "source": [
    "# conditioned average treatment effect (CATE), condition being its Christmas week\n",
    "a[a['x'] == 0]['te'].mean()"
   ]
  },
  {
   "cell_type": "markdown",
   "metadata": {},
   "source": [
    "Now of course in the real world, we only have the potential outcome that is the observed outcome due to the fundamental problem of causal inference. This of course means we cant determine the treatment effect. One way to see causal inference is as a missing data problem. To infer the causal quantities of interest, you must impute the missing potential outcomes. \n",
    "\n",
    "To estimate ATE, you need to estimate what would have happened to the treated had they not be treated, $E[Y_0|T=1]$ , expected potential untreated outcome for the treated; and what would have happened to the untreated, had they been treated, $E[Y_1|T=0]$, expected potential treated outcome for the untreated. If you decide to compare the average outcome between treated and untreated, you are essentially using $E[Y|T=0]$, the expected observed outcome for the untreated to estimate $E[Y_0]$, the expected potential untreated outcome and $E[Y|T=1]$, the expected observed outcome for the treated to estimate $E[Y_1]$, the expected potential treated outcome. In otherwords, you are estimating $E[Y|T=t]$ and hoping to recover $E[Y_t]$. Such an estimator, that recovers $E[Y|T=t]$ will be a biased estimator for $E[Y_t]$. \n",
    "\n",
    "Note that if we had all the potential outcomes, we could have found $E[Y_t]$ for t={0,1}, and compared the two values for the average treatment effect. Causation is thus measured by $E[Y_1] - E[Y_0]$ (shorthand for $E[Y|do(t=1)]-E[Y|do(t=0)]$, where the do(·) operator means we force every unit to undergo treatment and no treatment so that we have the potential outcomes). \n",
    "\n"
   ]
  },
  {
   "cell_type": "code",
   "execution_count": 154,
   "metadata": {},
   "outputs": [
    {
     "data": {
      "text/html": [
       "<div>\n",
       "<style scoped>\n",
       "    .dataframe tbody tr th:only-of-type {\n",
       "        vertical-align: middle;\n",
       "    }\n",
       "\n",
       "    .dataframe tbody tr th {\n",
       "        vertical-align: top;\n",
       "    }\n",
       "\n",
       "    .dataframe thead th {\n",
       "        text-align: right;\n",
       "    }\n",
       "</style>\n",
       "<table border=\"1\" class=\"dataframe\">\n",
       "  <thead>\n",
       "    <tr style=\"text-align: right;\">\n",
       "      <th></th>\n",
       "      <th>i</th>\n",
       "      <th>y0</th>\n",
       "      <th>y1</th>\n",
       "      <th>t</th>\n",
       "      <th>x</th>\n",
       "      <th>y</th>\n",
       "      <th>te</th>\n",
       "    </tr>\n",
       "  </thead>\n",
       "  <tbody>\n",
       "    <tr>\n",
       "      <th>0</th>\n",
       "      <td>1</td>\n",
       "      <td>200</td>\n",
       "      <td>220</td>\n",
       "      <td>0</td>\n",
       "      <td>0</td>\n",
       "      <td>200</td>\n",
       "      <td>20</td>\n",
       "    </tr>\n",
       "    <tr>\n",
       "      <th>1</th>\n",
       "      <td>2</td>\n",
       "      <td>120</td>\n",
       "      <td>140</td>\n",
       "      <td>0</td>\n",
       "      <td>0</td>\n",
       "      <td>120</td>\n",
       "      <td>20</td>\n",
       "    </tr>\n",
       "    <tr>\n",
       "      <th>2</th>\n",
       "      <td>3</td>\n",
       "      <td>300</td>\n",
       "      <td>400</td>\n",
       "      <td>0</td>\n",
       "      <td>1</td>\n",
       "      <td>300</td>\n",
       "      <td>100</td>\n",
       "    </tr>\n",
       "    <tr>\n",
       "      <th>3</th>\n",
       "      <td>4</td>\n",
       "      <td>450</td>\n",
       "      <td>500</td>\n",
       "      <td>1</td>\n",
       "      <td>0</td>\n",
       "      <td>500</td>\n",
       "      <td>50</td>\n",
       "    </tr>\n",
       "    <tr>\n",
       "      <th>4</th>\n",
       "      <td>5</td>\n",
       "      <td>600</td>\n",
       "      <td>600</td>\n",
       "      <td>1</td>\n",
       "      <td>0</td>\n",
       "      <td>600</td>\n",
       "      <td>0</td>\n",
       "    </tr>\n",
       "    <tr>\n",
       "      <th>5</th>\n",
       "      <td>6</td>\n",
       "      <td>600</td>\n",
       "      <td>800</td>\n",
       "      <td>1</td>\n",
       "      <td>1</td>\n",
       "      <td>800</td>\n",
       "      <td>200</td>\n",
       "    </tr>\n",
       "  </tbody>\n",
       "</table>\n",
       "</div>"
      ],
      "text/plain": [
       "   i   y0   y1  t  x    y   te\n",
       "0  1  200  220  0  0  200   20\n",
       "1  2  120  140  0  0  120   20\n",
       "2  3  300  400  0  1  300  100\n",
       "3  4  450  500  1  0  500   50\n",
       "4  5  600  600  1  0  600    0\n",
       "5  6  600  800  1  1  800  200"
      ]
     },
     "execution_count": 154,
     "metadata": {},
     "output_type": "execute_result"
    }
   ],
   "source": [
    "b  = pd.DataFrame(dict(\n",
    "    i= [1,2,3,4,5,6],\n",
    "    y0=[200,120,300, np.nan, np.nan, np.nan,],\n",
    "    y1=[np.nan, np.nan, np.nan, 500,600,800],\n",
    "    t= [0,0,0,1,1,1],\n",
    "    x= [0,0,1,0,0,1],\n",
    ")).assign(\n",
    "    y = lambda d: np.where(d[\"t\"]==1, d[\"y1\"], d[\"y0\"]).astype(int),\n",
    "    te=lambda d: d[\"y1\"] - d[\"y0\"]\n",
    ")\n",
    "a   # lol, this is the original dataframe, not revised to remove unobserved potential outcomes"
   ]
  },
  {
   "cell_type": "code",
   "execution_count": 155,
   "metadata": {},
   "outputs": [
    {
     "name": "stdout",
     "output_type": "stream",
     "text": [
      "633.3333333333334\n",
      "206.66666666666666\n",
      "426.66666666666674\n"
     ]
    }
   ],
   "source": [
    "# overestimating treatment effect with average observed outcome conditioned on treatment\n",
    "partial_means1 = b[b['t'] == 1]['y'].mean()     \n",
    "print(partial_means1)\n",
    "partial_means2 = b[b['t'] == 0]['y'].mean()\n",
    "print(partial_means2)\n",
    "print(partial_means1 - partial_means2)  # without imputation we overestimate the average treatment effect"
   ]
  },
  {
   "cell_type": "markdown",
   "metadata": {},
   "source": [
    "So association is $E[Y|T=1] - E[Y|T=0]$, while causation is $E[Y_{1}] - E[Y_{0}]$. Because of the conditioning on treatment, the observed outcomes in the association match one of the potential outcomes. That is\n",
    "\n",
    "$E[Y|T=1] - E[Y|T=0]$  = $E[Y_1|T=1] - E[Y_0|T=0]$, now if we add and subtract the entity $E[Y_0|T=1]$,\n",
    "\n",
    "$E[Y_1|T=1] - E[Y_0|T=0]$ = $E[Y_1|T=1] - E[Y_0|T=0] + E[Y_0|T=1] -  E[Y_0|T=1]$ , rearranging gives\n",
    "\n",
    "$E[Y_1|T=1] - E[Y_0|T=1] + E[Y_0|T=1] - E[Y_0|T=0]$  = $E[Y_1 - Y_0 | T = 1] + E[Y_0|T=1] - E[Y_0|T=0]$\n",
    "\n",
    "$E[Y_1 - Y_0 | T = 1] + E[Y_0|T=1] - E[Y_0|T=0]$ = ATT + BIAS\n",
    "\n",
    "We can thus prove that association is not causation because association is equal to the treatment effect on the treated plus a bias term. The bias is given by how the treated and control group differ regardless of the treatment which is expressed in the difference is $Y_0$. For example, for the toy example above, $E[Y_0|T=0] < E[Y_0|T=1]$, meaning the businesses that can afford to do sales, typically tend to sell more regardless of whether or not they are having a sale. The treated and untreated differ in more ways than just whether or not they are having a sale. To determine the treatment effect, you will need treated and control units to be exchangeable, because the bias might be clouding the true causal effect. In otherwords, in order for association to be causation, $E[Y_0|T=0] = E[Y_0|T=1]$ , because in such a case, bias would vanish, leaving only the effect on the treated (average treatment effect on the treated)."
   ]
  },
  {
   "cell_type": "code",
   "execution_count": 171,
   "metadata": {},
   "outputs": [
    {
     "name": "stdout",
     "output_type": "stream",
     "text": [
      "141.033828125\n",
      "63.079723360655734\n"
     ]
    }
   ],
   "source": [
    "print(data[data['is_on_sale'] == 1]['weekly_amount_sold'].mean())\n",
    "print(data[data['is_on_sale'] == 0]['weekly_amount_sold'].mean())"
   ]
  },
  {
   "cell_type": "code",
   "execution_count": 173,
   "metadata": {},
   "outputs": [
    {
     "data": {
      "text/plain": [
       "<matplotlib.legend.Legend at 0x28a7b1100>"
      ]
     },
     "execution_count": 173,
     "metadata": {},
     "output_type": "execute_result"
    },
    {
     "data": {
      "text/plain": [
       "<Figure size 640x480 with 0 Axes>"
      ]
     },
     "metadata": {},
     "output_type": "display_data"
    },
    {
     "data": {
      "image/png": "[encoded data removed]",
      "text/plain": [
       "<Figure size 800x400 with 1 Axes>"
      ]
     },
     "metadata": {},
     "output_type": "display_data"
    }
   ],
   "source": [
    "# A Visual Guide to Bias - Businesses that can afford a sale tend to have higher amount sold with/without sales\n",
    "plt.rc('font', size=10)\n",
    "fig = plt.figure()\n",
    "\n",
    "sns.lmplot(data=data,                   # plot regression model\n",
    "           ci=None,\n",
    "           x='avg_week_sales',          # amount sold week of sales\n",
    "           y='weekly_amount_sold',      # general weekly amount sold (before sales)\n",
    "           scatter=False,\n",
    "           height=4, aspect=2)\n",
    "\n",
    "plt.scatter(x=data.query(\"is_on_sale==1\")[\"avg_week_sales\"],\n",
    "            y = data.query(\"is_on_sale==1\")[\"weekly_amount_sold\"],\n",
    "            label=\"on sale\",\n",
    "            color='r', alpha=0.8, marker=marker[0])\n",
    "\n",
    "plt.scatter(x=data.query(\"is_on_sale==0\")[\"avg_week_sales\"],\n",
    "            y = data.query(\"is_on_sale==0\")[\"weekly_amount_sold\"],\n",
    "            label=\"not on sale\",\n",
    "            color='g', alpha=0.8, marker=marker[1])\n",
    "plt.legend(fontsize=\"14\")"
   ]
  },
  {
   "cell_type": "code",
   "execution_count": null,
   "metadata": {},
   "outputs": [],
   "source": []
  },
  {
   "cell_type": "code",
   "execution_count": null,
   "metadata": {},
   "outputs": [],
   "source": []
  },
  {
   "cell_type": "code",
   "execution_count": null,
   "metadata": {},
   "outputs": [],
   "source": []
  }
 ],
 "metadata": {
  "kernelspec": {
   "display_name": "base",
   "language": "python",
   "name": "python3"
  },
  "language_info": {
   "codemirror_mode": {
    "name": "ipython",
    "version": 3
   },
   "file_extension": ".py",
   "mimetype": "text/x-python",
   "name": "python",
   "nbconvert_exporter": "python",
   "pygments_lexer": "ipython3",
   "version": "3.9.6"
  }
 },
 "nbformat": 4,
 "nbformat_minor": 2
}
